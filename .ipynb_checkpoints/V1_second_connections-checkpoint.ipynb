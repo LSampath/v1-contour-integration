{
 "cells": [
  {
   "cell_type": "code",
   "execution_count": 14,
   "metadata": {},
   "outputs": [],
   "source": [
    "import numpy as np\n",
    "import matplotlib.cm as cmap\n",
    "import time\n",
    "import os.path\n",
    "import scipy\n",
    "import pickle as pickle\n",
    "from struct import unpack\n",
    "from brian2 import *\n",
    "import brian2\n",
    "from brian2tools import *\n",
    "from PIL import Image"
   ]
  },
  {
   "cell_type": "code",
   "execution_count": 15,
   "metadata": {},
   "outputs": [],
   "source": [
    "def get_surrounding(coordinate, spread, length):\n",
    "    y = coordinate[0]\n",
    "    x = coordinate[1]\n",
    "    x_min = 0 if (x-spread < 0) else (x-spread)\n",
    "    x_max = (length-1) if (x+spread > length-1) else (x+spread)\n",
    "    y_min = 0 if (y-spread < 0) else (y-spread)\n",
    "    y_max = (length-1) if (y+spread > length-1) else (y+spread)\n",
    "    \n",
    "    coordinates = []\n",
    "    for i in range(y_min, y_max+1):\n",
    "        for j in range(x_min, x_max+1):\n",
    "            if (i!=y or j!=x):\n",
    "                coordinates.append((i,j))\n",
    "    return coordinates"
   ]
  },
  {
   "cell_type": "code",
   "execution_count": 16,
   "metadata": {},
   "outputs": [],
   "source": [
    "# initial random weights\n",
    "dataPath = './initial_weights/'\n",
    "\n",
    "length = 80\n",
    "field_size = 2                     # 2/3/4/5/6\n",
    "\n",
    "w_s = field_size*1               # simple cell width\n",
    "l_s = field_size*2              # simple_cell_length\n",
    "\n",
    "n_LGN = length*length\n",
    "n_L4  = (length//(w_s*2))*(length//l_s)\n",
    "n_L3  = n_L4\n",
    "n_L2  = n_L3\n",
    "\n",
    "weight = {}\n",
    "weight['LGN_L4'] = 10\n",
    "weight['L4_L4'] = 7*18\n",
    "weight['L4_L3_round'] = 0.1*18\n",
    "weight['L4_L3_direct'] = 5*18\n",
    "weight['L3_L3'] = 7\n",
    "weight['L3_L2'] = 7\n",
    "weight['L2_L3'] = 7*18"
   ]
  },
  {
   "cell_type": "code",
   "execution_count": 17,
   "metadata": {},
   "outputs": [],
   "source": [
    "# LGN ON >> L4 horizontal\n",
    "# LGN OFF >> L4 horizontal\n",
    "# feedforward, simple_cell_length*simple_cell_width to 1\n",
    "\n",
    "weightList = np.random.random((n_LGN, n_L4))\n",
    "weightList += weight['LGN_L4']\n",
    "\n",
    "weights_on = []\n",
    "weights_off = []\n",
    "\n",
    "for i in range(0, length//(w_s*2)):                   # y axis\n",
    "    for j in range(0, length//l_s):                   # x axis\n",
    "        for p in range(0, w_s):\n",
    "            for q in range(0, l_s):\n",
    "                x_on = (i*2*w_s+p)*length + (j*l_s+q)\n",
    "                x_off = ((i*2+1)*w_s+p)*length + (j*l_s+q)\n",
    "                y = i*(length//l_s) + j\n",
    "                \n",
    "                weights_on.append((x_on, y, weightList[x_on,y]))\n",
    "                weights_off.append((x_off, y, weightList[x_off,y]))\n",
    "        \n",
    "np.save(dataPath + 'LGN_L4_h_on', weights_on)\n",
    "np.save(dataPath + 'LGN_L4_h_off', weights_off)"
   ]
  },
  {
   "cell_type": "code",
   "execution_count": 18,
   "metadata": {},
   "outputs": [],
   "source": [
    "# LGN ON >> L4 vertical\n",
    "# LGN OFF >> L4 vertical\n",
    "# feedforward, simple_cell_length*simple_cell_width to 1\n",
    "\n",
    "weightList = np.random.random((n_LGN, n_L4))\n",
    "weightList += weight['LGN_L4']\n",
    "\n",
    "weights_on = []\n",
    "weights_off = []\n",
    "\n",
    "for i in range(0, length//l_s):                   # y axis\n",
    "    for j in range(0, length//(w_s*2)):          # x axis\n",
    "        for p in range(0, l_s):\n",
    "            for q in range(0, w_s):\n",
    "                x_on = (i*l_s+p)*length + (j*2*w_s+q)\n",
    "                x_off = (i*l_s+p)*length + ((j*2+1)*w_s+q)\n",
    "                y = i*(length//(w_s*2)) + j\n",
    "                \n",
    "                weights_on.append((x_on, y, weightList[x_on,y]))\n",
    "                weights_off.append((x_off, y, weightList[x_off,y]))\n",
    "        \n",
    "np.save(dataPath + 'LGN_L4_v_on', weights_on)\n",
    "np.save(dataPath + 'LGN_L4_v_off', weights_off)"
   ]
  },
  {
   "cell_type": "code",
   "execution_count": 19,
   "metadata": {},
   "outputs": [],
   "source": [
    "# LGN ON >> L4 diagonal (135 right)\n",
    "# LGN OFF >> L4 diagonal (135 right)\n",
    "# feedforward, simple_cell_length*simple_cell_width to 1\n",
    "\n",
    "weightList = np.random.random((n_LGN, n_L4))\n",
    "weightList += weight['LGN_L4']\n",
    "\n",
    "weights_on = []\n",
    "weights_off = []\n",
    "\n",
    "for i in range(0, length//l_s):                   # y axis\n",
    "    for j in range(0, length//l_s):               # x axis\n",
    "        x_on_list = [\n",
    "            (i*l_s+0)*length + (j*2*w_s+1), (i*l_s+0)*length + (j*2*w_s+2), (i*l_s+0)*length + (j*2*w_s+3),\n",
    "            (i*l_s+1)*length + (j*2*w_s+2), (i*l_s+1)*length + (j*2*w_s+3),\n",
    "            (i*l_s+2)*length + (j*2*w_s+3)\n",
    "        ]\n",
    "        x_off_list = [\n",
    "            (i*l_s+1)*length + (j*2*w_s+0),\n",
    "            (i*l_s+2)*length + (j*2*w_s+0), (i*l_s+2)*length + (j*2*w_s+1),\n",
    "            (i*l_s+3)*length + (j*2*w_s+0), (i*l_s+3)*length + (j*2*w_s+1), (i*l_s+3)*length + (j*2*w_s+2)\n",
    "        ]\n",
    "        y = i*(length//(w_s*2)) + j\n",
    "        \n",
    "        for x_on in x_on_list:\n",
    "            weights_on.append((x_on, y, weightList[x_on,y]))\n",
    "            \n",
    "        for x_off in x_off_list:\n",
    "            weights_off.append((x_off, y, weightList[x_off,y]))\n",
    "        \n",
    "np.save(dataPath + 'LGN_L4_dr_on', weights_on)\n",
    "np.save(dataPath + 'LGN_L4_dr_off', weights_off)"
   ]
  },
  {
   "cell_type": "code",
   "execution_count": 20,
   "metadata": {},
   "outputs": [],
   "source": [
    "# LGN ON >> L4 diagonal (45 left)\n",
    "# LGN OFF >> L4 diagonal (45 left)\n",
    "# feedforward, simple_cell_length*simple_cell_width to 1\n",
    "\n",
    "weightList = np.random.random((n_LGN, n_L4))\n",
    "weightList += weight['LGN_L4']\n",
    "\n",
    "weights_on = []\n",
    "weights_off = []\n",
    "\n",
    "for i in range(0, length//l_s):                   # y axis\n",
    "    for j in range(0, length//l_s):           # x axis\n",
    "        x_on_list = [\n",
    "            (i*l_s+0)*length + (j*2*w_s+0), (i*l_s+0)*length + (j*2*w_s+1), (i*l_s+0)*length + (j*2*w_s+2),\n",
    "            (i*l_s+1)*length + (j*2*w_s+0), (i*l_s+1)*length + (j*2*w_s+1),\n",
    "            (i*l_s+2)*length + (j*2*w_s+0)\n",
    "        ]\n",
    "        x_off_list = [\n",
    "            (i*l_s+1)*length + (j*2*w_s+3),\n",
    "            (i*l_s+2)*length + (j*2*w_s+2), (i*l_s+2)*length + (j*2*w_s+3),\n",
    "            (i*l_s+3)*length + (j*2*w_s+1), (i*l_s+3)*length + (j*2*w_s+2), (i*l_s+3)*length + (j*2*w_s+3)\n",
    "        ]\n",
    "        y = i*(length//(w_s*2)) + j\n",
    "        \n",
    "        for x_on in x_on_list:\n",
    "            weights_on.append((x_on, y, weightList[x_on,y]))\n",
    "            \n",
    "        for x_off in x_off_list:\n",
    "            weights_off.append((x_off, y, weightList[x_off,y]))\n",
    "        \n",
    "np.save(dataPath + 'LGN_L4_dl_on', weights_on)\n",
    "np.save(dataPath + 'LGN_L4_dl_off', weights_off)"
   ]
  },
  {
   "cell_type": "code",
   "execution_count": 21,
   "metadata": {},
   "outputs": [],
   "source": [
    "# L4 >> L4\n",
    "# one to one\n",
    "\n",
    "weightList = np.random.random(n_L4)\n",
    "weightList += weight['L4_L4']\n",
    "weights = [(i, i, weightList[i]) for i in range(n_L4)]\n",
    "np.save(dataPath + 'L4_L4', weights)"
   ]
  },
  {
   "cell_type": "code",
   "execution_count": 22,
   "metadata": {},
   "outputs": [],
   "source": [
    "# L4 >> L2/3 (L3)\n",
    "# many to one (circle + direct)\n",
    "# excitatory horizontal forward connections\n",
    "\n",
    "weight_direct_list  = np.random.random(n_L4)\n",
    "weight_direct_list += weight['L4_L3_direct']\n",
    "\n",
    "weights = [(k, k, weight_direct_list[k]) for k in range(n_L4)]\n",
    "\n",
    "# weights = []\n",
    "\n",
    "weight_round_list   = np.random.random((n_L4, n_L3))\n",
    "weight_round_list  += weight['L4_L3_round']\n",
    "\n",
    "for i in range(0, length//l_s):                   # y axis\n",
    "    for j in range(0, length//l_s):               # x axis\n",
    "        w_length = (length//l_s)\n",
    "        for p,q in get_surrounding((i,j), 1, w_length):\n",
    "            source = p * w_length + q\n",
    "            target = i * w_length + j\n",
    "            weights.append((source, target, weight_round_list[source,target]))\n",
    "                 \n",
    "np.save(dataPath + 'L4_L3', weights)"
   ]
  },
  {
   "cell_type": "code",
   "execution_count": 23,
   "metadata": {
    "scrolled": true
   },
   "outputs": [],
   "source": [
    "# L2/3 (L3) >> L2/3 (L3)\n",
    "# one to many (circle)\n",
    "# excitatory lateral connections\n",
    "\n",
    "weightList = np.random.random((n_L3, n_L3))\n",
    "weightList += weight['L3_L3']\n",
    "\n",
    "weights = []\n",
    "\n",
    "for i in range(0, length//l_s):                   # y axis\n",
    "    for j in range(0, length//l_s):               # x axis\n",
    "        w_length = (length//l_s)\n",
    "        for p,q in get_surrounding((i,j), 1, w_length):\n",
    "            source = p * w_length + q\n",
    "            target = i * w_length + j\n",
    "            weights.append((source, target, weightList[source,target]))\n",
    "        \n",
    "np.save(dataPath + 'L3_L3', weights)"
   ]
  },
  {
   "cell_type": "code",
   "execution_count": 24,
   "metadata": {},
   "outputs": [],
   "source": [
    "# L2/3 (L3) >> L2/3 inhibitory (L2)\n",
    "# one to many (circle)\n",
    "# excitatory lateral connections\n",
    "\n",
    "weightList = np.random.random((n_L3, n_L2))\n",
    "weightList += weight['L3_L2']\n",
    "\n",
    "weights = []\n",
    "\n",
    "for i in range(0, length//l_s):                   # y axis\n",
    "    for j in range(0, length//l_s):               # x axis\n",
    "        w_length = (length//l_s)\n",
    "        for p,q in get_surrounding((i,j), 2, w_length):\n",
    "            source = p * w_length + q\n",
    "            target = i * w_length + j\n",
    "            weights.append((source, target, weightList[source,target]))\n",
    "        \n",
    "np.save(dataPath + 'L3_L2', weights)"
   ]
  },
  {
   "cell_type": "code",
   "execution_count": 25,
   "metadata": {},
   "outputs": [],
   "source": [
    "# L2/3 inhibitory (L2) >> L2/3 (L3)\n",
    "# one to one \n",
    "# inhibitiry vertical downward connections\n",
    "\n",
    "weightList = np.random.random(n_L2)\n",
    "weightList += weight['L2_L3']\n",
    "weights = [(i, i, weightList[i]) for i in range(n_L2)]\n",
    "np.save(dataPath + 'L2_L3', weights)"
   ]
  },
  {
   "cell_type": "code",
   "execution_count": null,
   "metadata": {},
   "outputs": [],
   "source": []
  },
  {
   "cell_type": "code",
   "execution_count": null,
   "metadata": {},
   "outputs": [],
   "source": []
  },
  {
   "cell_type": "code",
   "execution_count": 13,
   "metadata": {},
   "outputs": [
    {
     "data": {
      "text/plain": [
       "[(3, 4), (3, 5), (3, 6), (4, 4), (4, 6), (5, 4), (5, 5), (5, 6)]"
      ]
     },
     "execution_count": 13,
     "metadata": {},
     "output_type": "execute_result"
    }
   ],
   "source": [
    "get_surrounding((4,5), 1, 10)"
   ]
  },
  {
   "cell_type": "code",
   "execution_count": null,
   "metadata": {},
   "outputs": [],
   "source": []
  },
  {
   "cell_type": "code",
   "execution_count": null,
   "metadata": {},
   "outputs": [],
   "source": []
  }
 ],
 "metadata": {
  "kernelspec": {
   "display_name": "SNN simulator",
   "language": "python",
   "name": "sim"
  },
  "language_info": {
   "codemirror_mode": {
    "name": "ipython",
    "version": 3
   },
   "file_extension": ".py",
   "mimetype": "text/x-python",
   "name": "python",
   "nbconvert_exporter": "python",
   "pygments_lexer": "ipython3",
   "version": "3.6.8"
  }
 },
 "nbformat": 4,
 "nbformat_minor": 2
}
