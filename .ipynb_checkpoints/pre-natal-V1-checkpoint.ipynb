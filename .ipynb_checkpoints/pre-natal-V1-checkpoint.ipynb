{
 "cells": [
  {
   "cell_type": "code",
   "execution_count": null,
   "metadata": {},
   "outputs": [],
   "source": [
    "import brian2\n",
    "from brian2tools import *\n",
    "from brian2 import *\n",
    "from struct import unpack\n",
    "from PIL import Image\n",
    "import numpy as np\n",
    "import matplotlib.cm as cmap\n",
    "import matplotlib.pyplot as plt\n",
    "import os.path\n",
    "import pickle as pickle\n",
    "import scipy\n",
    "import scipy.signal as signal\n",
    "import time\n",
    "import warnings\n",
    "warnings.simplefilter('ignore')\n",
    "import gc\n",
    "gc.collect()"
   ]
  },
  {
   "cell_type": "code",
   "execution_count": null,
   "metadata": {},
   "outputs": [],
   "source": [
    "def gaussian2D(x, y, sigma):\n",
    "    return (1.0/(1*math.pi*(sigma**2)))*math.exp(-(1.0/(sigma**2))*(x**2 + y**2))\n",
    "\n",
    "def mexicanHat(x,y,sigma1,sigma2): \n",
    "    return gaussian2D(x,y,sigma1) - gaussian2D(x,y,sigma2)\n",
    "\n",
    "def receptiveFieldMatrix(func):\n",
    "    h = 5\n",
    "    g = np.zeros((h,h))\n",
    "    for xi in range(0,h):\n",
    "        for yi in range(0,h):\n",
    "            x = xi-int(h/2)\n",
    "            y = yi-int(h/2)\n",
    "            g[xi, yi] = func(x,y);\n",
    "    return g"
   ]
  },
  {
   "cell_type": "code",
   "execution_count": null,
   "metadata": {},
   "outputs": [],
   "source": [
    "def get_matrix_from_file(fileName, shape):\n",
    "    readout = np.load(fileName)\n",
    "#     print(readout.shape, fileName)\n",
    "    value_arr = np.zeros(shape)\n",
    "    if not readout.shape == (0,):\n",
    "        value_arr[np.int32(readout[:,0]), np.int32(readout[:,1])] = readout[:,2]\n",
    "    return value_arr"
   ]
  },
  {
   "cell_type": "code",
   "execution_count": null,
   "metadata": {},
   "outputs": [],
   "source": [
    "def get_prenatal_signals(shape, o_index):\n",
    "    matrix = np.zeros(shape)\n",
    "    mt = matrix.transpose()\n",
    "    mt[o_index] += 10\n",
    "    matrix = mt.transpose()\n",
    "    return matrix"
   ]
  },
  {
   "cell_type": "code",
   "execution_count": null,
   "metadata": {},
   "outputs": [],
   "source": [
    "def save_connections():\n",
    "    for connName in connections:\n",
    "        conn = connections[connName]\n",
    "        weights = np.column_stack((conn.i, conn.j, conn.w))\n",
    "        sparseWeights = weights[~(weights.transpose()[2] == 0)]\n",
    "        np.save(saved_path + connName, sparseWeights)\n",
    "        print(connName, end=' ')\n",
    "    print('connections saved')"
   ]
  },
  {
   "cell_type": "code",
   "execution_count": null,
   "metadata": {},
   "outputs": [],
   "source": [
    "def get_surrounding(coordinate, r, inner, length):\n",
    "    y = coordinate[0]\n",
    "    x = coordinate[1]\n",
    "    \n",
    "    x_min = 0 if (x-r < 0) else (x-r)\n",
    "    x_max = (length-1) if (x+r > length-1) else (x+r)\n",
    "    y_min = 0 if (y-r < 0) else (y-r)\n",
    "    y_max = (length-1) if (y+r > length-1) else (y+r)\n",
    "    \n",
    "    coordinates = []\n",
    "    for i in range(y_min, y_max+1):\n",
    "        for j in range(x_min, x_max+1):\n",
    "            if (i==y and j==x and not inner):\n",
    "                continue\n",
    "            coordinates.append((i,j))\n",
    "            \n",
    "    return coordinates"
   ]
  },
  {
   "cell_type": "code",
   "execution_count": null,
   "metadata": {},
   "outputs": [],
   "source": [
    "def plot_lateral_distribution(name):\n",
    "    if (name == 'L3_L3'):\n",
    "        shape = (n_L3, n_L3)\n",
    "        radius = 1; inner = False\n",
    "    elif (name == 'L3_L2'):\n",
    "        shape = (n_L3, n_L2)\n",
    "        radius = 0; inner = True\n",
    "        \n",
    "    weights = np.array(connections[name].w)\n",
    "    weights = weights.reshape(shape)\n",
    "    \n",
    "    # init dictionary\n",
    "    list_dic = {}; sum_dic = {}; total_sum = 0\n",
    "    \n",
    "    c = {0:'h', 1:'v', 2:'d1', 3:'d2'}\n",
    "    for s_index in range(orientations):\n",
    "        for t_index in range(orientations):\n",
    "            list_dic[c[s_index]+c[t_index]] = []\n",
    "            sum_dic[c[s_index]+c[t_index]] = 0\n",
    "\n",
    "    for i in range(0, c_length):                   # y axis\n",
    "        for j in range(0, c_length):               # x axis\n",
    "            for p,q in get_surrounding((i,j), radius, inner, c_length):\n",
    "                \n",
    "                for s_index in range(orientations):\n",
    "                    for t_index in range(orientations):\n",
    "                        target = ( p * c_length + q ) * orientations + t_index\n",
    "                        source = ( i * c_length + j ) * orientations + s_index\n",
    "                        list_dic[c[s_index]+c[t_index]].append(weights[source][target])\n",
    "                        sum_dic[c[s_index]+c[t_index]] += abs(weights[source][target])\n",
    "                        total_sum += abs(weights[source][target])\n",
    "                        \n",
    "    plt.figure(figsize=(17,4))\n",
    "    for s_index in range(orientations):\n",
    "        for t_index in range(orientations):\n",
    "            plt.plot(list_dic[c[s_index]+c[t_index]], label=c[s_index]+c[t_index])\n",
    "            print(c[s_index]+c[t_index], sum_dic[c[s_index]+c[t_index]], \n",
    "                  'of', total_sum, ':', sum_dic[c[s_index]+c[t_index]]*100/total_sum)\n",
    "    \n",
    "    plt.legend(); plt.show()"
   ]
  },
  {
   "cell_type": "code",
   "execution_count": null,
   "metadata": {},
   "outputs": [],
   "source": [
    "def normalize_weights(o_index):\n",
    "    weights = np.array(connections['L3_L3'].w)\n",
    "    weights = weights.reshape((n_L3, n_L3))\n",
    "    w_ar = np.array([])\n",
    "    \n",
    "    for i in range(0, c_length):                   # y axis\n",
    "        for j in range(0, c_length):               # x axis\n",
    "            for p,q in get_surrounding((i,j), 1, False, c_length):\n",
    "                target = ( p * c_length + q ) * orientations + o_index\n",
    "                source = ( i * c_length + j ) * orientations + o_index\n",
    "                w_ar = np.append(w_ar, weights[source][target])\n",
    "    \n",
    "    q90 = np.percentile(w_ar, 90)\n",
    "    q10 = np.percentile(w_ar, 10)\n",
    "    \n",
    "    for i in range(0, c_length):                   # y axis\n",
    "        for j in range(0, c_length):               # x axis\n",
    "            for p,q in get_surrounding((i,j), 1, False, c_length):\n",
    "                target = ( p * c_length + q ) * orientations + o_index\n",
    "                source = ( i * c_length + j ) * orientations + o_index\n",
    "                if (weights[source][target] > q90):\n",
    "                    weights[source][target] = q90\n",
    "                elif (weights[source][target] < q10):\n",
    "                    weights[source][target] = q10\n",
    "    \n",
    "    weights = weights.reshape((n_L3*n_L3))\n",
    "    connections['L3_L3'].w = weights\n",
    "    gc.collect()"
   ]
  },
  {
   "cell_type": "markdown",
   "metadata": {},
   "source": [
    "# INITIALIZE"
   ]
  },
  {
   "cell_type": "code",
   "execution_count": null,
   "metadata": {},
   "outputs": [],
   "source": [
    "initial_path = './initial_weights/'\n",
    "saved_path = './saved_weights/'\n",
    "\n",
    "fig_num = 1\n",
    "\n",
    "c_length = 15\n",
    "orientations = 4\n",
    "\n",
    "h_index = 0\n",
    "v_index = 1\n",
    "d1_index = 2\n",
    "d2_index = 3\n",
    "\n",
    "n_L4  = c_length*c_length*orientations\n",
    "n_L3  = n_L4\n",
    "n_L2  = n_L3\n",
    "\n",
    "num_epochs = 80\n",
    "normalize_interval = 20\n",
    "\n",
    "single_example_time = 0.40 * second\n",
    "resting_time = 0.25 * second\n",
    "\n",
    "delay = {}\n",
    "delay = (0*ms, 5*ms)              # min and max delay\n",
    "minDelay = delay[0]\n",
    "maxDelay = delay[1]\n",
    "deltaDelay = maxDelay - minDelay\n",
    "\n",
    "# neural model parameters\n",
    "v_rest_e = -65. * mV\n",
    "v_rest_i = -60. * mV\n",
    "v_reset_e = -65. * mV\n",
    "v_reset_i = -45. * mV\n",
    "v_thresh_e = -52. * mV\n",
    "v_thresh_i = -40. * mV\n",
    "refrac_e = 20. * ms\n",
    "refrac_i = 15. * ms\n",
    "tc_theta = 1e7 * ms\n",
    "theta_plus_e = 0.05 * mV\n",
    "offset = 20.0 * mV\n",
    "\n",
    "# STDP parameters\n",
    "tc_pre = 50*ms\n",
    "tc_post = 40*ms\n",
    "nu_pre =  0.05# 0.0001\n",
    "nu_post = 0.2 # 0.01\n",
    "wmax = 100.0\n",
    "Apre = 0.4\n",
    "Apost = Apre*1.05\n",
    "\n",
    "input_intensity = 1.\n",
    "start_input_intensity = input_intensity\n",
    "\n",
    "#membrane dynamics\n",
    "scr_e = 'v = v_reset_e; theta += theta_plus_e; timer = 0*ms'\n",
    "v_reset_i_str = 'v = v_reset_i'\n",
    "\n",
    "v_thresh_e_str = '(v > (theta - offset + v_thresh_e)) and (timer > refrac_e)'\n",
    "v_thresh_i_str = 'v > v_thresh_i'\n",
    "\n",
    "neuron_eqs_e = '''\n",
    "        dv/dt = ((v_rest_e - v) + g_e*(-v) + g_i*(-100.*mV - v) ) / (100*ms)  : volt (unless refractory)\n",
    "        dg_e/dt = -g_e/(1.0*ms)                                    : 1\n",
    "        dg_i/dt = -g_i/(2.0*ms)                                    : 1\n",
    "        dtheta/dt = -theta/(1e7*ms)                                : volt\n",
    "        dtimer/dt = 0.1                                            : second\n",
    "'''\n",
    "\n",
    "neuron_eqs_i = '''\n",
    "        dv/dt = ((v_rest_i - v) +  g_e*(-v) + g_i*(-85.*mV - v)) / (10*ms)  : volt (unless refractory)\n",
    "        dg_e/dt = -g_e/(1.0*ms)                                    : 1\n",
    "        dg_i/dt = -g_i/(2.0*ms)                                    : 1\n",
    "'''\n",
    "\n",
    "# learning rules\n",
    "# without STDP\n",
    "model = 'w : 1'\n",
    "pre_e = 'g_e_post += w'\n",
    "pre_i = 'g_i_post += w'\n",
    "post = ''\n",
    "\n",
    "stdp_model = '''\n",
    "    post2_temp                          : 1\n",
    "    w                                   : 1\n",
    "    dpre/dt   =   -pre/(tc_pre)         : 1 (event-driven)\n",
    "    dpost/dt  =   -post/(tc_post)       : 1 (event-driven)\n",
    "'''\n",
    "stdp_pre = '''\n",
    "    w = clip(w + nu_pre*post, -wmax, wmax) * int(post>0.3*Apost) + clip(w - nu_pre*post, -wmax, wmax) * int(post<=0.3*Apost);\n",
    "    pre += Apre;\n",
    "'''\n",
    "stdp_pre_e = stdp_pre + 'g_e_post += w;'\n",
    "stdp_pre_i = stdp_pre + 'g_i_post += w;'\n",
    "stdp_post  = 'w = clip(w + nu_post * pre, 0, wmax); post += Apost;'"
   ]
  },
  {
   "cell_type": "code",
   "execution_count": null,
   "metadata": {},
   "outputs": [],
   "source": [
    "# stimuli_on, stimuli_off = load_stimuli('./pic_60_1.tif')"
   ]
  },
  {
   "cell_type": "code",
   "execution_count": null,
   "metadata": {},
   "outputs": [],
   "source": [
    "neuron_groups = {}\n",
    "neuron_groups_list = [\n",
    "    ('L4', 'e'), ('L3', 'e'), ('L2', 'i')\n",
    "]\n",
    "\n",
    "for name, e_i in neuron_groups_list:\n",
    "    if (e_i == 'e'):\n",
    "        neuron_groups[name] = NeuronGroup(n_L4, neuron_eqs_e, threshold=v_thresh_e_str, refractory=refrac_e, reset=scr_e, method='euler')\n",
    "        neuron_groups[name].v = v_rest_e - 40.*mV \n",
    "        neuron_groups[name].theta = np.ones((n_L4)) * 20.0*mV\n",
    "    elif (e_i == 'i'):\n",
    "        neuron_groups[name] = NeuronGroup(n_L4, neuron_eqs_i, threshold=v_thresh_i_str, refractory=refrac_i, reset=v_reset_i_str, method='euler')\n",
    "        neuron_groups[name].v = v_rest_i - 40.*mV \n",
    "\n",
    "input_groups = {}\n",
    "input_groups['input']   = PoissonGroup(n_L4, 0*Hz)\n",
    "\n",
    "gc.collect()"
   ]
  },
  {
   "cell_type": "code",
   "execution_count": null,
   "metadata": {},
   "outputs": [],
   "source": [
    "def my_method():\n",
    "    print('slkdfjdlf');"
   ]
  },
  {
   "cell_type": "code",
   "execution_count": null,
   "metadata": {},
   "outputs": [],
   "source": [
    "weight_path = initial_path\n",
    "# weight_path = saved_path\n",
    "connections = {}\n",
    "#[name, shape, weight_file, source, target, equation_type]\n",
    "\n",
    "# From input to neruon groups (L4)\n",
    "weightMatrix = get_matrix_from_file(weight_path + 'L4_L4.npy', (n_L4, n_L4))\n",
    "connections['input_L4']= Synapses(input_groups['input'], neuron_groups['L4'], model=model, on_pre=pre_e, on_post=post)\n",
    "connections['input_L4'].connect(True)\n",
    "connections['input_L4'].w = weightMatrix[connections['input_L4'].i, connections['input_L4'].j]\n",
    "# connections['input_L4'].delay = 'maxDelay'\n",
    "    \n",
    "neuron_neuron_conn = [\n",
    "    ['L4_L3', (n_L4, n_L3), 'L4_L3.npy', 'L4', 'L3', 'e', False],\n",
    "    ['L3_L3', (n_L3, n_L3), 'L3_L3.npy', 'L3', 'L3', 'e', True],\n",
    "    ['L3_L2', (n_L3, n_L2), 'L3_L2.npy', 'L3', 'L2', 'e', False],\n",
    "    ['L2_L3', (n_L2, n_L3), 'L2_L3.npy', 'L2', 'L3', 'i', False],\n",
    "    ['L3_L4', (n_L3, n_L4), 'L3_L4.npy', 'L3', 'L4', 'e', False]\n",
    "]\n",
    "    \n",
    "for name, shape, weight_file, source, target, equation, learn in neuron_neuron_conn:\n",
    "    if (learn):\n",
    "        model_eq = stdp_model\n",
    "        post_eq = stdp_post\n",
    "        if (equation == 'e'):\n",
    "            pre_eq = stdp_pre_e\n",
    "        elif (equation == 'i'):\n",
    "            pre_eq = stdp_pre_i\n",
    "    else:\n",
    "        model_eq = model\n",
    "        post_eq = post\n",
    "        if (equation == 'e'):\n",
    "            pre_eq = pre_e\n",
    "        elif (equation == 'i'):\n",
    "            pre_eq = pre_i\n",
    "    \n",
    "    weightMatrix = get_matrix_from_file(weight_path + weight_file, shape)\n",
    "    connections[name]= Synapses(neuron_groups[source], neuron_groups[target], model=model_eq, on_pre=pre_eq, on_post=post_eq)\n",
    "    connections[name].connect(True)\n",
    "    connections[name].w = weightMatrix[connections[name].i, connections[name].j]\n",
    "    \n",
    "gc.collect()"
   ]
  },
  {
   "cell_type": "code",
   "execution_count": null,
   "metadata": {},
   "outputs": [],
   "source": [
    "spike_monitors = {}\n",
    "spike_monitors['input'] = SpikeMonitor(input_groups['input'])\n",
    "for name,_ in neuron_groups_list:\n",
    "    spike_monitors[name] = SpikeMonitor(neuron_groups[name])\n",
    "    \n",
    "M = {}\n",
    "# M['L3_L3'] = StateMonitor(connections['L3_L3'], ['w', 'post', 'pre'], record=True)\n",
    "# M['L3_L2'] = StateMonitor(connections['L3_L2'], ['w', 'post', 'pre'], record=True)\n",
    "# M['L3'] = StateMonitor(neuron_groups['L3'], ['v', 'g_e', 'g_i'], record=True)\n",
    "# M['L2'] = StateMonitor(neuron_groups['L2'], ['v', 'g_e', 'g_i'], record=True)"
   ]
  },
  {
   "cell_type": "code",
   "execution_count": null,
   "metadata": {},
   "outputs": [],
   "source": [
    "net = Network()\n",
    "for obj_list in [neuron_groups, input_groups, connections, spike_monitors, M]:\n",
    "    for key in obj_list:\n",
    "        net.add(obj_list[key])"
   ]
  },
  {
   "cell_type": "code",
   "execution_count": null,
   "metadata": {},
   "outputs": [],
   "source": [
    "plot_lateral_distribution('L3_L3')\n",
    "gc.collect()"
   ]
  },
  {
   "cell_type": "code",
   "execution_count": null,
   "metadata": {},
   "outputs": [],
   "source": [
    "plot_lateral_distribution('L3_L2')\n",
    "gc.collect()"
   ]
  },
  {
   "cell_type": "markdown",
   "metadata": {},
   "source": [
    "# TRAIN"
   ]
  },
  {
   "cell_type": "code",
   "execution_count": null,
   "metadata": {
    "scrolled": false
   },
   "outputs": [],
   "source": [
    "previous_spike_count = np.zeros(n_L4)\n",
    "input_groups['input'].rates = 0 * Hz\n",
    "\n",
    "selected_orientations = [h_index, v_index, d1_index, d2_index, h_index, v_index, d1_index, d2_index]\n",
    "\n",
    "for o_index in selected_orientations: \n",
    "    net.run(resting_time)\n",
    "    \n",
    "    for name, e_i in neuron_groups_list:\n",
    "        if (e_i == 'e'):\n",
    "            neuron_groups[name].theta = np.ones((n_L4)) * 20.0*mV\n",
    "            \n",
    "    # load stimuli\n",
    "    prenatal_stimuli = get_prenatal_signals((c_length,c_length,orientations), o_index)\n",
    "\n",
    "    j = 0\n",
    "    while j < (num_epochs):\n",
    "        if ((j+1) % normalize_interval == 0):\n",
    "            normalize_weights(o_index)\n",
    "        \n",
    "        spike_rates = prenatal_stimuli.reshape((n_L4)) / 8. *  input_intensity\n",
    "        input_groups['input'].rates = spike_rates * Hz\n",
    "\n",
    "        print('run example number:', j+1, 'of', num_epochs, 'in iteration', o_index, 'of', len(selected_orientations))\n",
    "        \n",
    "        net.run(single_example_time, report='text')   # 0.35 s\n",
    "\n",
    "        current_spike_count = np.asarray(spike_monitors['L4'].count[:]) - previous_spike_count\n",
    "        previous_spike_count = np.copy(spike_monitors['L4'].count[:])\n",
    "        \n",
    "        input_groups['input'].rates = 0 * Hz\n",
    "        net.run(resting_time) \n",
    "\n",
    "        if np.sum(current_spike_count) < 1:\n",
    "            if (input_intensity == 5):\n",
    "                break;\n",
    "            print(\"F - spike count\", np.sum(current_spike_count))\n",
    "            input_intensity += 1\n",
    "        else:     \n",
    "            print(\"S - spike count\", np.sum(current_spike_count))\n",
    "            input_intensity = start_input_intensity\n",
    "            j += 1\n",
    "\n",
    "        # garbage collect after each iteration\n",
    "        gc.collect()"
   ]
  },
  {
   "cell_type": "code",
   "execution_count": null,
   "metadata": {},
   "outputs": [],
   "source": [
    "c_shape = (c_length, c_length, orientations)\n",
    "fig, axarr = subplots(2,4, figsize = (15, 7))\n",
    "\n",
    "data = np.copy(spike_monitors['L3'].count).reshape(c_shape).transpose()\n",
    "v_min = data.min(); v_max = data.max()\n",
    "\n",
    "axarr[0,0].imshow(data[h_index].transpose(), vmax=v_max, vmin=v_min, cmap = cmap.get_cmap('binary'))\n",
    "axarr[0,0].title.set_text('L3_h')\n",
    "axarr[1,0].imshow(data[v_index].transpose(), vmax=v_max, vmin=v_min, cmap = cmap.get_cmap('binary'))\n",
    "axarr[1,0].title.set_text('L3_v')\n",
    "axarr[0,1].imshow(data[d1_index].transpose(), vmax=v_max, vmin=v_min, cmap = cmap.get_cmap('binary'))\n",
    "axarr[0,1].title.set_text('L3_d1')\n",
    "axarr[1,1].imshow(data[d2_index].transpose(), vmax=v_max, vmin=v_min, cmap = cmap.get_cmap('binary'))\n",
    "axarr[1,1].title.set_text('L3_d2')\n",
    "\n",
    "\n",
    "data = np.copy(spike_monitors['L4'].count).reshape(c_shape).transpose()\n",
    "v_min = data.min(); v_max = data.max()\n",
    "\n",
    "axarr[0,2].imshow(data[h_index].transpose(), vmax=v_max, vmin=v_min, cmap = cmap.get_cmap('binary'))\n",
    "axarr[0,2].title.set_text('L4_h')\n",
    "axarr[1,2].imshow(data[v_index].transpose(), vmax=v_max, vmin=v_min, cmap = cmap.get_cmap('binary'))\n",
    "axarr[1,2].title.set_text('L4_v')\n",
    "axarr[0,3].imshow(data[d1_index].transpose(), vmax=v_max, vmin=v_min, cmap = cmap.get_cmap('binary'))\n",
    "axarr[0,3].title.set_text('L4_d1')\n",
    "axarr[1,3].imshow(data[d2_index].transpose(), vmax=v_max, vmin=v_min, cmap = cmap.get_cmap('binary'))\n",
    "axarr[1,3].title.set_text('L4_d2')"
   ]
  },
  {
   "cell_type": "code",
   "execution_count": null,
   "metadata": {},
   "outputs": [],
   "source": [
    "gc.collect()"
   ]
  },
  {
   "cell_type": "code",
   "execution_count": null,
   "metadata": {},
   "outputs": [],
   "source": [
    "plot_lateral_distribution('L3_L3')"
   ]
  },
  {
   "cell_type": "code",
   "execution_count": null,
   "metadata": {},
   "outputs": [],
   "source": [
    "plot_lateral_distribution('L3_L2')"
   ]
  },
  {
   "cell_type": "code",
   "execution_count": null,
   "metadata": {},
   "outputs": [],
   "source": [
    "# save connections\n",
    "save_connections()"
   ]
  },
  {
   "cell_type": "code",
   "execution_count": null,
   "metadata": {},
   "outputs": [],
   "source": [
    "plot(spike_monitors['input'].t/ms, spike_monitors['input'].i, '.k')\n",
    "xlabel('Time (ms)')\n",
    "ylabel('Neuron index');"
   ]
  },
  {
   "cell_type": "code",
   "execution_count": null,
   "metadata": {},
   "outputs": [],
   "source": [
    "plot(spike_monitors['L4'].t/ms, spike_monitors['L4'].i, '.k')\n",
    "xlabel('Time (ms)')\n",
    "ylabel('Neuron index');"
   ]
  },
  {
   "cell_type": "code",
   "execution_count": null,
   "metadata": {},
   "outputs": [],
   "source": [
    "plot(spike_monitors['L3'].t/ms, spike_monitors['L3'].i, '.k')\n",
    "xlabel('Time (ms)')\n",
    "ylabel('Neuron index');"
   ]
  },
  {
   "cell_type": "code",
   "execution_count": null,
   "metadata": {},
   "outputs": [],
   "source": [
    "plot(spike_monitors['L2'].t/ms, spike_monitors['L2'].i, '.k')\n",
    "xlabel('Time (ms)')\n",
    "ylabel('Neuron index');"
   ]
  },
  {
   "cell_type": "code",
   "execution_count": null,
   "metadata": {},
   "outputs": [],
   "source": [
    "gc.collect()"
   ]
  },
  {
   "cell_type": "code",
   "execution_count": null,
   "metadata": {},
   "outputs": [],
   "source": [
    "# figure(figsize=(15, 4))\n",
    "# plot(M['L2'].t/ms, M['L2'].v[8], label='L2')\n",
    "# plot(M['L3'].t/ms, M['L3'].v[8], label='L3')\n",
    "# legend()"
   ]
  },
  {
   "cell_type": "code",
   "execution_count": null,
   "metadata": {},
   "outputs": [],
   "source": [
    "unique(connections['L3_L3'].w)"
   ]
  },
  {
   "cell_type": "code",
   "execution_count": null,
   "metadata": {},
   "outputs": [],
   "source": [
    "unique(connections['L3_L2'].w)"
   ]
  },
  {
   "cell_type": "code",
   "execution_count": null,
   "metadata": {},
   "outputs": [],
   "source": []
  },
  {
   "cell_type": "code",
   "execution_count": null,
   "metadata": {},
   "outputs": [],
   "source": []
  },
  {
   "cell_type": "code",
   "execution_count": null,
   "metadata": {},
   "outputs": [],
   "source": []
  },
  {
   "cell_type": "code",
   "execution_count": null,
   "metadata": {},
   "outputs": [],
   "source": []
  },
  {
   "cell_type": "code",
   "execution_count": null,
   "metadata": {},
   "outputs": [],
   "source": []
  },
  {
   "cell_type": "code",
   "execution_count": null,
   "metadata": {},
   "outputs": [],
   "source": []
  },
  {
   "cell_type": "code",
   "execution_count": null,
   "metadata": {},
   "outputs": [],
   "source": []
  },
  {
   "cell_type": "code",
   "execution_count": null,
   "metadata": {},
   "outputs": [],
   "source": []
  },
  {
   "cell_type": "code",
   "execution_count": null,
   "metadata": {},
   "outputs": [],
   "source": []
  },
  {
   "cell_type": "code",
   "execution_count": null,
   "metadata": {},
   "outputs": [],
   "source": []
  },
  {
   "cell_type": "code",
   "execution_count": null,
   "metadata": {},
   "outputs": [],
   "source": []
  },
  {
   "cell_type": "code",
   "execution_count": null,
   "metadata": {},
   "outputs": [],
   "source": []
  },
  {
   "cell_type": "code",
   "execution_count": null,
   "metadata": {},
   "outputs": [],
   "source": []
  },
  {
   "cell_type": "code",
   "execution_count": null,
   "metadata": {},
   "outputs": [],
   "source": []
  },
  {
   "cell_type": "code",
   "execution_count": null,
   "metadata": {},
   "outputs": [],
   "source": []
  },
  {
   "cell_type": "code",
   "execution_count": null,
   "metadata": {},
   "outputs": [],
   "source": []
  },
  {
   "cell_type": "code",
   "execution_count": null,
   "metadata": {},
   "outputs": [],
   "source": [
    "weights = np.array(connections['L3_L3'].w)"
   ]
  },
  {
   "cell_type": "code",
   "execution_count": null,
   "metadata": {},
   "outputs": [],
   "source": [
    "weights[0]"
   ]
  },
  {
   "cell_type": "code",
   "execution_count": null,
   "metadata": {},
   "outputs": [],
   "source": [
    "weights.shape"
   ]
  },
  {
   "cell_type": "code",
   "execution_count": null,
   "metadata": {},
   "outputs": [],
   "source": [
    "plot(weights)"
   ]
  },
  {
   "cell_type": "code",
   "execution_count": null,
   "metadata": {},
   "outputs": [],
   "source": [
    " weights = weights.reshape((n_L3, n_L3))"
   ]
  },
  {
   "cell_type": "code",
   "execution_count": null,
   "metadata": {},
   "outputs": [],
   "source": [
    "weights = weights.reshape(n_L3*n_L3)"
   ]
  },
  {
   "cell_type": "code",
   "execution_count": null,
   "metadata": {},
   "outputs": [],
   "source": [
    "plot(weights)"
   ]
  },
  {
   "cell_type": "code",
   "execution_count": null,
   "metadata": {},
   "outputs": [],
   "source": [
    "weights[0]"
   ]
  },
  {
   "cell_type": "code",
   "execution_count": null,
   "metadata": {},
   "outputs": [],
   "source": [
    "0.24000009828939875"
   ]
  },
  {
   "cell_type": "code",
   "execution_count": null,
   "metadata": {},
   "outputs": [],
   "source": []
  }
 ],
 "metadata": {
  "kernelspec": {
   "display_name": "SNN simulator",
   "language": "python",
   "name": "sim"
  },
  "language_info": {
   "codemirror_mode": {
    "name": "ipython",
    "version": 3
   },
   "file_extension": ".py",
   "mimetype": "text/x-python",
   "name": "python",
   "nbconvert_exporter": "python",
   "pygments_lexer": "ipython3",
   "version": "3.6.8"
  }
 },
 "nbformat": 4,
 "nbformat_minor": 2
}
