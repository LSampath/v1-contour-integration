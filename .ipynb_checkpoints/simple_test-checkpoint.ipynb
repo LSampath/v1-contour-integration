{
 "cells": [
  {
   "cell_type": "code",
   "execution_count": 85,
   "metadata": {},
   "outputs": [],
   "source": [
    "import numpy as np\n",
    "import matplotlib.cm as cmap\n",
    "import matplotlib.pyplot as plt\n",
    "import time\n",
    "import os.path\n",
    "import scipy\n",
    "import pickle as pickle\n",
    "from struct import unpack\n",
    "from brian2 import *\n",
    "import brian2\n",
    "from brian2tools import *\n",
    "from PIL import Image\n",
    "import scipy.signal as signal\n",
    "import warnings\n",
    "warnings.simplefilter('ignore')\n",
    "from sklearn.preprocessing import normalize"
   ]
  },
  {
   "cell_type": "code",
   "execution_count": 86,
   "metadata": {},
   "outputs": [],
   "source": [
    "fig_num = 1\n",
    "\n",
    "num_epochs = 1\n",
    "\n",
    "single_example_time = 0.35 * second\n",
    "resting_time = 0.15 * second\n",
    "\n",
    "delay = {}\n",
    "delay = (0*ms, 10*ms)              # min and max delay\n",
    "minDelay = delay[0]\n",
    "maxDelay = delay[1]\n",
    "deltaDelay = maxDelay - minDelay\n",
    "\n",
    "# neural model parameters\n",
    "v_rest_e = -65. * mV\n",
    "v_rest_i = -60. * mV\n",
    "v_reset_e = -65. * mV\n",
    "v_reset_i = -45. * mV\n",
    "v_thresh_e = -52. * mV\n",
    "v_thresh_i = -40. * mV\n",
    "refrac_e = 5. * ms\n",
    "refrac_i = 2. * ms\n",
    "tc_theta = 1e7 * ms\n",
    "theta_plus_e = 0.05 * mV\n",
    "offset = 20.0 * mV\n",
    "\n",
    "# STDP parameters\n",
    "tc_pre = 20*ms\n",
    "tc_post_1 = 20*ms\n",
    "tc_post_2 = 40*ms\n",
    "nu_pre =  0.0001\n",
    "nu_post = 0.01\n",
    "wmax = 100.0\n",
    "\n",
    "input_intensity = 1.\n",
    "start_input_intensity = input_intensity\n",
    "\n",
    "update_interval = 2"
   ]
  },
  {
   "cell_type": "code",
   "execution_count": 87,
   "metadata": {},
   "outputs": [],
   "source": [
    "scr_e = 'v = v_reset_e; theta += theta_plus_e; timer = 0*ms'\n",
    "v_reset_i_str = 'v = v_reset_i'\n",
    "\n",
    "v_thresh_e_str = '(v > (theta - offset + v_thresh_e)) and (timer > refrac_e)'\n",
    "v_thresh_i_str = 'v > v_thresh_i'\n",
    "\n",
    "neuron_eqs_e = '''\n",
    "        dv/dt = ((v_rest_e - v) + g_e*(-v) + g_i*(-100.*mV - v) ) / (100*ms)  : volt (unless refractory)\n",
    "        dg_e/dt = -g_e/(1.0*ms)                                    : 1\n",
    "        dg_i/dt = -g_i/(2.0*ms)                                    : 1\n",
    "        dtheta/dt = -theta/(1e7*ms)                                : volt\n",
    "        dtimer/dt = 0.1                                            : second\n",
    "'''\n",
    "\n",
    "neuron_eqs_i = '''\n",
    "        dv/dt = ((v_rest_i - v) +  g_e*(-v) + g_i*(-85.*mV - v)) / (10*ms)  : volt (unless refractory)\n",
    "        dg_e/dt = -g_e/(1.0*ms)                                    : 1\n",
    "        dg_i/dt = -g_i/(2.0*ms)                                    : 1\n",
    "'''\n",
    "\n",
    "neuron_groups = {}\n",
    "neuron_groups['i']  = NeuronGroup(1, neuron_eqs_i, threshold=v_thresh_i_str, refractory=refrac_i, reset=v_reset_i_str, method='euler')\n",
    "neuron_groups['e']  = NeuronGroup(1, neuron_eqs_e, threshold=v_thresh_e_str, refractory=refrac_e, reset=scr_e, method='euler')\n",
    "\n",
    "neuron_groups['i'].v  = v_rest_i - 40.*mV\n",
    "neuron_groups['e'].v    = v_rest_e - 40.*mV\n",
    "# \n",
    "neuron_groups['e'].theta = np.ones((1)) * 20.0*mV\n",
    "\n",
    "input_groups = {}\n",
    "input_groups['input']   = PoissonGroup(1, 0*Hz)"
   ]
  },
  {
   "cell_type": "code",
   "execution_count": 88,
   "metadata": {},
   "outputs": [],
   "source": [
    "# without STDP\n",
    "model = 'w : 1'\n",
    "pre = 'g_e_post += w'\n",
    "post = ''\n",
    "\n",
    "connections = {}\n",
    "\n",
    "\n",
    "# input >> e, without STDP\n",
    "# one to one connection\n",
    "\n",
    "connections['input_e']= Synapses(input_groups['input'], neuron_groups['e'], model=model, on_pre=pre, on_post=post)\n",
    "connections['input_e'].connect(True)\n",
    "connections['input_e'].w[0] = 25 \n",
    "connections['input_e'].delay = 'minDelay + rand() * deltaDelay'\n",
    "\n",
    "# input >> i, without STDP\n",
    "# one to one connection\n",
    "\n",
    "connections['input_i']= Synapses(input_groups['input'], neuron_groups['i'], model=model, on_pre=pre, on_post=post)\n",
    "connections['input_i'].connect(True)\n",
    "connections['input_i'].w[0] = 25 \n",
    "connections['input_i'].delay = 'minDelay + rand() * deltaDelay'\n",
    "\n",
    "# i >> e, without STDP\n",
    "# one to one connection\n",
    "\n",
    "connections['i_e']= Synapses(neuron_groups['i'], neuron_groups['e'], model=model, on_pre=pre, on_post=post)\n",
    "connections['i_e'].connect(True)\n",
    "connections['i_e'].w[0] = 100 \n",
    "connections['i_e'].delay = 'minDelay + rand() * deltaDelay'"
   ]
  },
  {
   "cell_type": "code",
   "execution_count": 89,
   "metadata": {},
   "outputs": [],
   "source": [
    "spike_counter = SpikeMonitor(neuron_groups['e'])\n",
    "\n",
    "# used for ploting after training\n",
    "rate_monitors = {}\n",
    "spike_monitors = {}\n",
    "state_monitors = {}\n",
    "\n",
    "rate_monitors['i']        = PopulationRateMonitor(neuron_groups['i'])\n",
    "rate_monitors['e']        = PopulationRateMonitor(neuron_groups['e'])\n",
    "\n",
    "spike_monitors['input'] = SpikeMonitor(input_groups['input'])\n",
    "spike_monitors['e']      = SpikeMonitor(neuron_groups['e'])\n",
    "spike_monitors['i']      = SpikeMonitor(neuron_groups['i'])\n",
    "\n",
    "state_monitors['i']   = StateMonitor(neuron_groups['i'], 'v', record=0)\n",
    "state_monitors['e'] = StateMonitor(neuron_groups['e'], 'v', record=0)"
   ]
  },
  {
   "cell_type": "code",
   "execution_count": 90,
   "metadata": {},
   "outputs": [
    {
     "name": "stdout",
     "output_type": "stream",
     "text": [
      "i NeuronGroup(clock=Clock(dt=100. * usecond, name='defaultclock'), when=start, order=0, name='neurongroup_9')\n",
      "e NeuronGroup(clock=Clock(dt=100. * usecond, name='defaultclock'), when=start, order=0, name='neurongroup_10')\n",
      "input PoissonGroup(1, rates=0. * hertz)\n",
      "input_e Synapses(clock=Clock(dt=100. * usecond, name='defaultclock'), when=start, order=0, name='synapses')\n",
      "input_i Synapses(clock=Clock(dt=100. * usecond, name='defaultclock'), when=start, order=0, name='synapses_1')\n",
      "i <PopulationRateMonitor, recording neurongroup_9>\n",
      "e <PopulationRateMonitor, recording neurongroup_10>\n",
      "input <SpikeMonitor, recording from spikemonitor_1>\n",
      "e <SpikeMonitor, recording from spikemonitor_3>\n",
      "i <SpikeMonitor, recording from spikemonitor_8>\n",
      "i <StateMonitor, recording ['v'] from neurongroup_9>\n",
      "e <StateMonitor, recording ['v'] from neurongroup_10>\n",
      "spike counter <SpikeMonitor, recording from spikemonitor>\n"
     ]
    }
   ],
   "source": [
    "net = Network()\n",
    "for obj_list in [neuron_groups, input_groups, connections, rate_monitors, spike_monitors, state_monitors]:\n",
    "    for key in obj_list:\n",
    "        print(key, obj_list[key])\n",
    "        net.add(obj_list[key])\n",
    "print('spike counter', spike_counter)\n",
    "net.add(spike_counter)"
   ]
  },
  {
   "cell_type": "code",
   "execution_count": 91,
   "metadata": {},
   "outputs": [],
   "source": [
    "previous_spike_count = np.zeros(0)\n",
    "\n",
    "input_groups['input'].rates = 0 * Hz\n",
    "\n",
    "net.run(0*second)\n",
    "\n",
    "j = 0"
   ]
  },
  {
   "cell_type": "code",
   "execution_count": 92,
   "metadata": {},
   "outputs": [
    {
     "name": "stdout",
     "output_type": "stream",
     "text": [
      "run example number: 0 of 1\n",
      "Starting simulation at t=0. s for a duration of 0.35 s\n",
      "0.35 (100%) simulated in 2s\n",
      "Fail - spike count 0.0\n",
      "run example number: 0 of 1\n",
      "Starting simulation at t=0.5 s for a duration of 0.35 s\n",
      "0.35 (100%) simulated in 2s\n",
      "S - spike count 8\n"
     ]
    }
   ],
   "source": [
    "while j < (num_epochs):\n",
    "    \n",
    "    input_groups['input'].rates = 100 * Hz\n",
    "    \n",
    "    print('run example number:', j, 'of', num_epochs)\n",
    "    \n",
    "    net.run(single_example_time, report='text')   # 0.35 s\n",
    "\n",
    "    current_spike_count = np.asarray(spike_counter.count[:]) - previous_spike_count\n",
    "    previous_spike_count = np.copy(spike_counter.count[:])\n",
    "    \n",
    "    if np.sum(current_spike_count) < 1:\n",
    "        if (input_intensity == 10):\n",
    "            break;\n",
    "            \n",
    "        print(\"Fail - spike count\", np.sum(current_spike_count))\n",
    "        input_intensity += 1\n",
    "        \n",
    "        input_groups['input'].rates = 0 * Hz\n",
    "        net.run(resting_time) \n",
    "    \n",
    "    else:     \n",
    "        print(\"S - spike count\", np.sum(current_spike_count))\n",
    "        \n",
    "        if j % 100 == 0 and j > 0:\n",
    "            print('runs done:', j, 'of', num_epochs)\n",
    "\n",
    "        input_groups['input'].rates = 0 * Hz\n",
    "        \n",
    "        net.run(resting_time)\n",
    "        input_intensity = start_input_intensity\n",
    "        j += 1"
   ]
  },
  {
   "cell_type": "code",
   "execution_count": 93,
   "metadata": {},
   "outputs": [
    {
     "data": {
      "text/plain": [
       "15"
      ]
     },
     "execution_count": 93,
     "metadata": {},
     "output_type": "execute_result"
    }
   ],
   "source": [
    "spike_monitors['e'].count[0]"
   ]
  },
  {
   "cell_type": "code",
   "execution_count": 94,
   "metadata": {},
   "outputs": [
    {
     "data": {
      "text/plain": [
       "100"
      ]
     },
     "execution_count": 94,
     "metadata": {},
     "output_type": "execute_result"
    }
   ],
   "source": [
    "spike_monitors['i'].count[0]"
   ]
  },
  {
   "cell_type": "code",
   "execution_count": 95,
   "metadata": {},
   "outputs": [
    {
     "data": {
      "text/plain": [
       "61"
      ]
     },
     "execution_count": 95,
     "metadata": {},
     "output_type": "execute_result"
    }
   ],
   "source": [
    "spike_monitors['input'].count[0]"
   ]
  },
  {
   "cell_type": "code",
   "execution_count": 96,
   "metadata": {},
   "outputs": [
    {
     "data": {
      "image/png": "[encoded data removed]",
      "text/plain": [
       "<Figure size 432x288 with 1 Axes>"
      ]
     },
     "metadata": {
      "needs_background": "light"
     },
     "output_type": "display_data"
    }
   ],
   "source": [
    "plot(state_monitors['e'].t/ms, state_monitors['e'].v[0], label='e')\n",
    "plot(state_monitors['i'].t/ms, state_monitors['i'].v[0], label='i')\n",
    "xlabel('Time (ms)')\n",
    "ylabel('v')\n",
    "legend();"
   ]
  },
  {
   "cell_type": "code",
   "execution_count": null,
   "metadata": {},
   "outputs": [],
   "source": []
  },
  {
   "cell_type": "code",
   "execution_count": null,
   "metadata": {},
   "outputs": [],
   "source": []
  },
  {
   "cell_type": "code",
   "execution_count": 48,
   "metadata": {},
   "outputs": [
    {
     "data": {
      "text/plain": [
       "25.0"
      ]
     },
     "execution_count": 48,
     "metadata": {},
     "output_type": "execute_result"
    }
   ],
   "source": [
    "connections['input_e'].w[0]"
   ]
  },
  {
   "cell_type": "code",
   "execution_count": null,
   "metadata": {},
   "outputs": [],
   "source": []
  }
 ],
 "metadata": {
  "kernelspec": {
   "display_name": "SNN simulator",
   "language": "python",
   "name": "sim"
  },
  "language_info": {
   "codemirror_mode": {
    "name": "ipython",
    "version": 3
   },
   "file_extension": ".py",
   "mimetype": "text/x-python",
   "name": "python",
   "nbconvert_exporter": "python",
   "pygments_lexer": "ipython3",
   "version": "3.6.8"
  }
 },
 "nbformat": 4,
 "nbformat_minor": 2
}
