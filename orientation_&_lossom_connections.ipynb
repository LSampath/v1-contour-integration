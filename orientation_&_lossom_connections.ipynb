{
 "cells": [
  {
   "cell_type": "code",
   "execution_count": 1,
   "metadata": {},
   "outputs": [],
   "source": [
    "import numpy as np\n",
    "import matplotlib.cm as cmap\n",
    "import matplotlib.pyplot as plt\n",
    "import time\n",
    "import os.path\n",
    "import scipy\n",
    "import pickle as pickle\n",
    "from struct import unpack\n",
    "from brian2 import *\n",
    "import brian2\n",
    "from brian2tools import *\n",
    "from PIL import Image\n",
    "import scipy.signal as signal\n",
    "import warnings\n",
    "warnings.simplefilter('ignore')\n",
    "import random"
   ]
  },
  {
   "cell_type": "code",
   "execution_count": 2,
   "metadata": {},
   "outputs": [],
   "source": [
    "def get_surrounding(coordinate, inner, outer, length):\n",
    "    y = coordinate[0]\n",
    "    x = coordinate[1]\n",
    "    out_x_min = 0 if (x-outer < 0) else (x-outer)\n",
    "    out_x_max = (length-1) if (x+outer > length-1) else (x+outer)\n",
    "    out_y_min = 0 if (y-outer < 0) else (y-outer)\n",
    "    out_y_max = (length-1) if (y+outer > length-1) else (y+outer)\n",
    "    \n",
    "    in_x_min = 0 if (x-inner < 0) else (x-inner)\n",
    "    in_x_max = (length-1) if (x+inner > length-1) else (x+inner)\n",
    "    in_y_min = 0 if (y-inner < 0) else (y-inner)\n",
    "    in_y_max = (length-1) if (y+inner > length-1) else (y+inner)\n",
    "    \n",
    "#     print(out_x_min, out_x_max, out_y_min, out_y_max)\n",
    "#     print(in_x_min, in_x_max, in_y_min, in_y_max)\n",
    "    \n",
    "    coordinates = []\n",
    "    for i in range(out_y_min, out_y_max+1):\n",
    "        for j in range(out_x_min, out_x_max+1):\n",
    "            if ((i not in range(in_y_min, in_y_max+1)) or (j not in range(in_x_min, in_x_max+1))):\n",
    "                if (not (y==i and x==j)):\n",
    "                    coordinates.append((i,j))\n",
    "    return coordinates"
   ]
  },
  {
   "cell_type": "code",
   "execution_count": 3,
   "metadata": {},
   "outputs": [],
   "source": [
    "# initial random weights\n",
    "dataPath = './initial_weights/'\n",
    "\n",
    "field_size = 2                     # 2/3/4/5/6\n",
    "w_s = field_size*1                # simple cell width\n",
    "l_s = field_size*2                # simple_cell_length\n",
    "\n",
    "c_length = 30\n",
    "r_length = (c_length*l_s)   # (c_length*2*w_s)\n",
    "orientations = 4\n",
    "\n",
    "n_LGN = r_length*r_length\n",
    "n_L4  = c_length*c_length\n",
    "n_L3  = n_L4\n",
    "n_L2  = n_L3\n",
    "\n",
    "weight = {}\n",
    "weight['LGN_L4'] = 10\n",
    "weight['L4_L4'] = 25\n",
    "weight['L4_L3_round'] = 1\n",
    "weight['L4_L3_direct'] = 25\n",
    "weight['L3_L3'] = 7\n",
    "weight['L3_L2'] = 7\n",
    "weight['L2_L3'] = 15"
   ]
  },
  {
   "cell_type": "code",
   "execution_count": 4,
   "metadata": {},
   "outputs": [
    {
     "name": "stdout",
     "output_type": "stream",
     "text": [
      "h 2 297\n",
      "v 1 268\n",
      "d2 3 170\n",
      "d1 0 165\n"
     ]
    }
   ],
   "source": [
    "# orientation map generations\n",
    "\n",
    "grid = np.rint(np.random.random((c_length, c_length)) * (orientations-1))\n",
    "counter = 1\n",
    "while(True):\n",
    "    counts = np.sort(np.unique(grid, return_counts=True)[1])\n",
    "    if ( (counts[-1] < n_L4/(orientations-1)) and (counts[0] > n_L4/(orientations+1.5)) ):\n",
    "        break\n",
    "    grid = np.rint(np.random.random((c_length, c_length)) * (orientations-1))\n",
    "    counter += 1\n",
    "    \n",
    "counts = np.unique(grid, return_counts=True)[1]\n",
    "d1_index, d2_index, v_index, h_index = counts.argsort()\n",
    "\n",
    "print('h', h_index, counts[h_index])\n",
    "print('v', v_index, counts[v_index])\n",
    "print('d2', d2_index, counts[d2_index])\n",
    "print('d1', d1_index, counts[d1_index])"
   ]
  },
  {
   "cell_type": "code",
   "execution_count": 5,
   "metadata": {},
   "outputs": [
    {
     "data": {
      "image/png": "[encoded data removed]",
      "text/plain": [
       "<Figure size 432x432 with 1 Axes>"
      ]
     },
     "metadata": {
      "needs_background": "light"
     },
     "output_type": "display_data"
    }
   ],
   "source": [
    "figure(figsize = (6,6))\n",
    "im2 = imshow(grid, cmap = cmap.get_cmap('hot'))\n",
    "# colorbar(im2)"
   ]
  },
  {
   "cell_type": "code",
   "execution_count": 6,
   "metadata": {},
   "outputs": [],
   "source": [
    "# LGN ON >> L4 horizontal   (NF connection)\n",
    "# LGN OFF >> L4 horizontal  (FN connection)\n",
    "\n",
    "weightList = np.random.random((n_LGN, n_L4))\n",
    "weightList += weight['LGN_L4']\n",
    "\n",
    "weights_NF = []\n",
    "weights_FN = []\n",
    "\n",
    "for i in range(0, c_length):\n",
    "    for j in range(0, c_length):\n",
    "        \n",
    "        if (grid[i][j] == h_index):\n",
    "            for p in range(0, w_s):\n",
    "                for q in range(0, l_s):\n",
    "                    x_NF = (i*2*w_s+p) * r_length + (j*l_s+q)\n",
    "                    x_FN = ((i*2+1)*w_s+p) * r_length + (j*l_s+q)\n",
    "                    y = i * c_length + j\n",
    "\n",
    "                    weights_NF.append((x_NF, y, weightList[x_NF,y]))\n",
    "                    weights_FN.append((x_FN, y, weightList[x_FN,y]))\n",
    "            \n",
    "        elif (grid[i][j] == v_index):\n",
    "            for p in range(0, l_s):\n",
    "                for q in range(0, w_s):\n",
    "                    x_NF = (i*l_s+p) * r_length + (j*2*w_s+q)\n",
    "                    x_FN = (i*l_s+p) * r_length + ((j*2+1)*w_s+q)\n",
    "                    y = i * c_length + j\n",
    "\n",
    "                    weights_NF.append((x_NF, y, weightList[x_NF,y]))\n",
    "                    weights_FN.append((x_FN, y, weightList[x_FN,y]))\n",
    "            \n",
    "        elif (grid[i][j] == d1_index):\n",
    "            x_NF_list = [\n",
    "                (i*l_s+0)*r_length + (j*2*w_s+0), (i*l_s+0)*r_length + (j*2*w_s+1), (i*l_s+0)*r_length + (j*2*w_s+2),\n",
    "                (i*l_s+1)*r_length + (j*2*w_s+0), (i*l_s+1)*r_length + (j*2*w_s+1),\n",
    "                (i*l_s+2)*r_length + (j*2*w_s+0)\n",
    "            ]\n",
    "            x_FN_list = [\n",
    "                (i*l_s+1)*r_length + (j*2*w_s+3),\n",
    "                (i*l_s+2)*r_length + (j*2*w_s+2), (i*l_s+2)*r_length + (j*2*w_s+3),\n",
    "                (i*l_s+3)*r_length + (j*2*w_s+1), (i*l_s+3)*r_length + (j*2*w_s+2), (i*l_s+3)*r_length + (j*2*w_s+3)\n",
    "            ]\n",
    "            y = i * c_length + j\n",
    "\n",
    "            for x_NF in x_NF_list:\n",
    "                weights_NF.append((x_NF, y, weightList[x_NF,y]))\n",
    "            for x_FN in x_FN_list:\n",
    "                weights_FN.append((x_FN, y, weightList[x_FN,y]))\n",
    "            \n",
    "        elif (grid[i][j] == d2_index):\n",
    "            x_NF_list = [\n",
    "                (i*l_s+0)*r_length + (j*2*w_s+1), (i*l_s+0)*r_length + (j*2*w_s+2), (i*l_s+0)*r_length + (j*2*w_s+3),\n",
    "                (i*l_s+1)*r_length + (j*2*w_s+2), (i*l_s+1)*r_length + (j*2*w_s+3),\n",
    "                (i*l_s+2)*r_length + (j*2*w_s+3)\n",
    "            ]\n",
    "            x_FN_list = [\n",
    "                (i*l_s+1)*r_length + (j*2*w_s+0),\n",
    "                (i*l_s+2)*r_length + (j*2*w_s+0), (i*l_s+2)*r_length + (j*2*w_s+1),\n",
    "                (i*l_s+3)*r_length + (j*2*w_s+0), (i*l_s+3)*r_length + (j*2*w_s+1), (i*l_s+3)*r_length + (j*2*w_s+2)\n",
    "            ]\n",
    "            y = i* c_length + j\n",
    "\n",
    "            for x_NF in x_NF_list:\n",
    "                weights_NF.append((x_NF, y, weightList[x_NF,y]))\n",
    "            for x_FN in x_FN_list:\n",
    "                weights_FN.append((x_FN, y, weightList[x_FN,y]))   \n",
    "        \n",
    "np.save(dataPath + 'LGN_L4_NF', weights_NF)\n",
    "np.save(dataPath + 'LGN_L4_FN', weights_FN)"
   ]
  },
  {
   "cell_type": "code",
   "execution_count": 7,
   "metadata": {},
   "outputs": [],
   "source": [
    "# L4 >> L4\n",
    "# one to one\n",
    "\n",
    "weightList = np.random.random(n_L4)\n",
    "weightList += weight['L4_L4']\n",
    "weights = [(i, i, weightList[i]) for i in range(n_L4)]\n",
    "np.save(dataPath + 'L4_L4', weights)"
   ]
  },
  {
   "cell_type": "code",
   "execution_count": 8,
   "metadata": {},
   "outputs": [],
   "source": [
    "# L4 >> L2/3 (L3)\n",
    "# many to one (circle + direct)\n",
    "# excitatory vertical forward connections\n",
    "\n",
    "weight_direct_list  = np.random.random(n_L4)\n",
    "weight_direct_list += weight['L4_L3_direct']\n",
    "\n",
    "weights = [(k, k, weight_direct_list[k]) for k in range(n_L4)]\n",
    "\n",
    "# weights = []\n",
    "\n",
    "weight_round_list   = np.random.random((n_L4, n_L3))\n",
    "weight_round_list  += weight['L4_L3_round']\n",
    "\n",
    "for i in range(0, c_length):                   # y axis\n",
    "    for j in range(0, c_length):               # x axis\n",
    "        for p,q in get_surrounding((i,j), 0, 1, c_length):\n",
    "            source = p * c_length + q\n",
    "            target = i * c_length + j\n",
    "            weights.append((source, target, weight_round_list[source,target]))\n",
    "                 \n",
    "np.save(dataPath + 'L4_L3', weights)"
   ]
  },
  {
   "cell_type": "code",
   "execution_count": 9,
   "metadata": {},
   "outputs": [],
   "source": [
    "# L2/3 (L3) >> L2/3 (L3)\n",
    "# many to one (circle)\n",
    "# excitatory horizontal connections\n",
    "\n",
    "weightList  = np.random.random((n_L3, n_L2))\n",
    "weightList += weight['L3_L3']\n",
    "\n",
    "weights = []\n",
    "\n",
    "for i in range(0, c_length):                   # y axis\n",
    "    for j in range(0, c_length):               # x axis\n",
    "        for p,q in get_surrounding((i,j), 0, 2, c_length):\n",
    "            target = p * c_length + q\n",
    "            source = i * c_length + j\n",
    "            weights.append((source, target, weightList[source,target]))\n",
    "                 \n",
    "np.save(dataPath + 'L3_L3', weights)"
   ]
  },
  {
   "cell_type": "code",
   "execution_count": 10,
   "metadata": {},
   "outputs": [],
   "source": [
    "# L2/3 (L3) >> L2/3 (L2)\n",
    "# many to one (circle)\n",
    "# excitatory horizontal connections\n",
    "\n",
    "weightList  = np.random.random((n_L3, n_L2))\n",
    "weightList += weight['L3_L2']\n",
    "\n",
    "weights = []\n",
    "\n",
    "for i in range(0, c_length):                   # y axis\n",
    "    for j in range(0, c_length):               # x axis\n",
    "        for p,q in get_surrounding((i,j), 2, 4, c_length):\n",
    "            source = p * c_length + q\n",
    "            target = i * c_length + j\n",
    "            weights.append((source, target, weightList[source,target]))\n",
    "                 \n",
    "np.save(dataPath + 'L3_L2', weights)"
   ]
  },
  {
   "cell_type": "code",
   "execution_count": 11,
   "metadata": {},
   "outputs": [],
   "source": [
    "# L2/3 (L2) >> L2/3 (L3)\n",
    "# one to one\n",
    "# inhibitory vertical connections\n",
    "\n",
    "weightList = np.random.random(n_L2)\n",
    "weightList += weight['L2_L3']\n",
    "weights = [(i, i, weightList[i]) for i in range(n_L2)]\n",
    "np.save(dataPath + 'L2_L3', weights)"
   ]
  },
  {
   "cell_type": "code",
   "execution_count": 12,
   "metadata": {},
   "outputs": [],
   "source": [
    "# # L2/3 (L3) >> L4\n",
    "# # many to one (circle)\n",
    "# # excitatory feedback vertical connections\n",
    "\n",
    "# weightList  = np.random.random((n_L3, n_L4))\n",
    "# weightList += weight['L3_L2']\n",
    "\n",
    "# weights = []\n",
    "\n",
    "# for i in range(0, c_length):                   # y axis\n",
    "#     for j in range(0, c_length):               # x axis\n",
    "#         for p,q in get_surrounding((i,j), 2, 4, c_length):\n",
    "#             source = p * c_length + q\n",
    "#             target = i * c_length + j\n",
    "#             weights.append((source, target, weightList[source,target]))\n",
    "                 \n",
    "# np.save(dataPath + 'L3_L2', weights)"
   ]
  },
  {
   "cell_type": "code",
   "execution_count": null,
   "metadata": {},
   "outputs": [],
   "source": []
  },
  {
   "cell_type": "code",
   "execution_count": null,
   "metadata": {},
   "outputs": [],
   "source": []
  },
  {
   "cell_type": "code",
   "execution_count": null,
   "metadata": {},
   "outputs": [],
   "source": []
  },
  {
   "cell_type": "code",
   "execution_count": null,
   "metadata": {},
   "outputs": [],
   "source": []
  }
 ],
 "metadata": {
  "kernelspec": {
   "display_name": "SNN simulator",
   "language": "python",
   "name": "sim"
  },
  "language_info": {
   "codemirror_mode": {
    "name": "ipython",
    "version": 3
   },
   "file_extension": ".py",
   "mimetype": "text/x-python",
   "name": "python",
   "nbconvert_exporter": "python",
   "pygments_lexer": "ipython3",
   "version": "3.6.8"
  }
 },
 "nbformat": 4,
 "nbformat_minor": 2
}
