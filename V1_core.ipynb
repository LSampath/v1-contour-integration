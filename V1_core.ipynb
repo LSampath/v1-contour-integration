{
 "cells": [
  {
   "cell_type": "code",
   "execution_count": 1,
   "metadata": {},
   "outputs": [],
   "source": [
    "import numpy as np\n",
    "import matplotlib.cm as cmap\n",
    "import matplotlib.pyplot as plt\n",
    "import time\n",
    "import os.path\n",
    "import scipy\n",
    "import pickle as pickle\n",
    "from struct import unpack\n",
    "from brian2 import *\n",
    "import brian2\n",
    "from brian2tools import *\n",
    "from PIL import Image\n",
    "import scipy.signal as signal\n",
    "import warnings\n",
    "warnings.simplefilter('ignore')"
   ]
  },
  {
   "cell_type": "code",
   "execution_count": 2,
   "metadata": {},
   "outputs": [],
   "source": [
    "def plot_spike_counts(name, layer_shape, fig_num):\n",
    "    x_L = layer_shape[0]\n",
    "    y_L = layer_shape[1]\n",
    "    spike_copy = np.copy(spike_monitors[name].count)\n",
    "    spike_matrix = np.zeros(layer_shape)\n",
    "    for i in range(y_L):\n",
    "        for j in range(x_L):\n",
    "            spike_matrix[i,j] = spike_copy[i*x_L + j]\n",
    "\n",
    "    unique_list = unique(spike_matrix)\n",
    "    max_val = max(unique_list)\n",
    "    min_val = min(unique_list)\n",
    "\n",
    "    fig = figure(fig_num, figsize = (6, 6))\n",
    "    im2 = imshow(spike_matrix, interpolation = \"nearest\", vmin = min_val, vmax = max_val , cmap = cmap.get_cmap('hot_r'))\n",
    "    colorbar(im2)\n",
    "    title('number of spikes - ' + name + ' layer')"
   ]
  },
  {
   "cell_type": "code",
   "execution_count": 3,
   "metadata": {},
   "outputs": [],
   "source": [
    "def get_matrix_from_file(fileName, shape):\n",
    "    readout = np.load(fileName)\n",
    "    print(readout.shape, fileName)\n",
    "    value_arr = np.zeros(shape)\n",
    "    if not readout.shape == (0,):\n",
    "        value_arr[np.int32(readout[:,0]), np.int32(readout[:,1])] = readout[:,2]\n",
    "    return value_arr"
   ]
  },
  {
   "cell_type": "code",
   "execution_count": 4,
   "metadata": {},
   "outputs": [],
   "source": [
    "def gaussian2D(x, y, sigma):\n",
    "    return (1.0/(1*math.pi*(sigma**2)))*math.exp(-(1.0/((sigma**2)))*(x**2 + y**2))\n",
    "\n",
    "def mexicanHat(x,y,sigma1,sigma2): \n",
    "    return gaussian2D(x,y,sigma1) - gaussian2D(x,y,sigma2)\n",
    "\n",
    "def receptiveFieldMatrix(func):\n",
    "    h = 5\n",
    "    g = np.zeros((h,h))\n",
    "    for xi in range(0,h):\n",
    "        for yi in range(0,h):\n",
    "            x = xi-int(h/2)\n",
    "            y = yi-int(h/2)\n",
    "            g[xi, yi] = func(x,y);\n",
    "    return g"
   ]
  },
  {
   "cell_type": "code",
   "execution_count": 5,
   "metadata": {},
   "outputs": [],
   "source": [
    "def plot_image(image, fig_num):\n",
    "    unique_list = unique(image)\n",
    "    max_val = max(unique_list)\n",
    "    min_val = min(unique_list)\n",
    "    fig = figure(fig_num, figsize = (5, 5))\n",
    "    img = imshow(image, interpolation = \"nearest\", vmin = min_val, vmax = max_val , cmap = cmap.get_cmap('hot_r'))\n",
    "    colorbar(img)"
   ]
  },
  {
   "cell_type": "code",
   "execution_count": 6,
   "metadata": {},
   "outputs": [],
   "source": [
    "def tune_stimuli(data):\n",
    "    data = (data - data.min()) / (data.max() - data.min())\n",
    "    q95 = np.percentile(data, 95)\n",
    "    data = np.where((data > q95), q95, data)\n",
    "    data = np.exp(data*15)\n",
    "    data = (data - data.min()) / (data.max() - data.min())\n",
    "    data *= 20\n",
    "    return data"
   ]
  },
  {
   "cell_type": "markdown",
   "metadata": {},
   "source": [
    "# CODE"
   ]
  },
  {
   "cell_type": "code",
   "execution_count": 7,
   "metadata": {},
   "outputs": [],
   "source": [
    "stimuli_file = './pic_42_O.tif'\n",
    "weight_path = './initial_weights/'\n",
    "save_path = './saved_weights/'\n",
    "\n",
    "fig_num = 1\n",
    "\n",
    "s_length = 42                # stimuli legnth\n",
    "f_size = 2                   # receptive field size\n",
    "n_length = (s_length//f_size)-1   # layer 4 length\n",
    "\n",
    "# f_width  = field_size * 1\n",
    "# f_length = field_size * 2\n",
    "\n",
    "n_LGN = s_length * s_length\n",
    "n_L4 = n_length * n_length\n",
    "\n",
    "num_epochs = 12\n",
    "\n",
    "single_example_time = 0.35 * second\n",
    "resting_time = 0.15 * second\n",
    "\n",
    "delay = {}\n",
    "delay = (0*ms, 10*ms)              # min and max delay\n",
    "minDelay = delay[0]\n",
    "maxDelay = delay[1]\n",
    "deltaDelay = maxDelay - minDelay\n",
    "\n",
    "# neural model parameters\n",
    "v_rest_e = -65. * mV\n",
    "v_rest_i = -60. * mV\n",
    "v_reset_e = -65. * mV\n",
    "v_reset_i = -45. * mV\n",
    "v_thresh_e = -52. * mV\n",
    "v_thresh_i = -40. * mV\n",
    "refrac_e = 5. * ms\n",
    "refrac_i = 2. * ms\n",
    "tc_theta = 1e7 * ms\n",
    "theta_plus_e = 0.05 * mV\n",
    "offset = 20.0 * mV\n",
    "\n",
    "# STDP parameters\n",
    "tc_pre = 20*ms\n",
    "tc_post_1 = 20*ms\n",
    "tc_post_2 = 40*ms\n",
    "nu_pre =  0.0001\n",
    "nu_post = 0.01\n",
    "wmax = 100.0\n",
    "\n",
    "input_intensity = 1.\n",
    "start_input_intensity = input_intensity\n",
    "\n",
    "update_interval = 2"
   ]
  },
  {
   "cell_type": "code",
   "execution_count": 8,
   "metadata": {},
   "outputs": [
    {
     "data": {
      "image/png": "[encoded data removed]",
      "text/plain": [
       "<Figure size 360x360 with 2 Axes>"
      ]
     },
     "metadata": {
      "needs_background": "light"
     },
     "output_type": "display_data"
    },
    {
     "data": {
      "image/png": "[encoded data removed]",
      "text/plain": [
       "<Figure size 360x360 with 2 Axes>"
      ]
     },
     "metadata": {
      "needs_background": "light"
     },
     "output_type": "display_data"
    }
   ],
   "source": [
    "img = Image.open(stimuli_file)\n",
    "img.load()\n",
    "img_arr = np.asarray(img, dtype=\"int32\")\n",
    "stimuli = np.absolute(img_arr)/255\n",
    "img.close()\n",
    "\n",
    "stimuli_on = signal.convolve(stimuli, receptiveFieldMatrix(lambda x,y:mexicanHat(x,y,1,1.1)), mode='same')\n",
    "stimuli_on = tune_stimuli(stimuli_on)\n",
    "plot_image(stimuli_on, fig_num)\n",
    "fig_num += 1\n",
    "\n",
    "stimuli_off = signal.convolve(stimuli, receptiveFieldMatrix(lambda x,y:mexicanHat(x,y,1.1,1)), mode='same')\n",
    "stimuli_off = tune_stimuli(stimuli_off)\n",
    "plot_image(stimuli_off, fig_num)\n",
    "fig_num += 1"
   ]
  },
  {
   "cell_type": "code",
   "execution_count": 9,
   "metadata": {},
   "outputs": [],
   "source": [
    "scr_e = 'v = v_reset_e; theta += theta_plus_e; timer = 0*ms'\n",
    "v_reset_i_str = 'v = v_reset_i'\n",
    "\n",
    "v_thresh_e_str = '(v > (theta - offset + v_thresh_e)) and (timer > refrac_e)'\n",
    "v_thresh_i_str = 'v > v_thresh_i'\n",
    "\n",
    "neuron_eqs_e = '''\n",
    "        dv/dt = ((v_rest_e - v) + g_e*(-v) + g_i*(-100.*mV - v) ) / (100*ms)  : volt (unless refractory)\n",
    "        dg_e/dt = -g_e/(1.0*ms)                                    : 1\n",
    "        dg_i/dt = -g_i/(2.0*ms)                                    : 1\n",
    "        dtheta/dt = -theta/(1e7*ms)                                : volt\n",
    "        dtimer/dt = 0.1                                            : second\n",
    "'''\n",
    "\n",
    "neuron_eqs_i = '''\n",
    "        dv/dt = ((v_rest_i - v) +  g_e*(-v) + g_i*(-85.*mV - v)) / (10*ms)  : volt (unless refractory)\n",
    "        dg_e/dt = -g_e/(1.0*ms)                                    : 1\n",
    "        dg_i/dt = -g_i/(2.0*ms)                                    : 1\n",
    "'''\n",
    "\n",
    "\n",
    "neuron_groups = {}\n",
    "\n",
    "# vertical\n",
    "# ON first - OFF second\n",
    "neuron_groups['L4_i_NF_v']  = NeuronGroup(n_L4, neuron_eqs_i, threshold=v_thresh_i_str, refractory=refrac_i, reset=v_reset_i_str, method='euler')\n",
    "neuron_groups['L4_NF_v']    = NeuronGroup(n_L4, neuron_eqs_e, threshold=v_thresh_e_str, refractory=refrac_e, reset=scr_e, method='euler')\n",
    "neuron_groups['L4_i_NF_v'].v  = v_rest_i - 40.*mV\n",
    "neuron_groups['L4_NF_v'].v    = v_rest_e - 40.*mV \n",
    "neuron_groups['L4_NF_v'].theta = np.ones((n_L4)) * 20.0*mV\n",
    "\n",
    "# OFF first - ON second\n",
    "neuron_groups['L4_i_FN_v']     = NeuronGroup(n_L4, neuron_eqs_i, threshold=v_thresh_i_str, refractory=refrac_i, reset=v_reset_i_str, method='euler')\n",
    "neuron_groups['L4_FN_v']       = NeuronGroup(n_L4, neuron_eqs_e, threshold=v_thresh_e_str, refractory=refrac_e, reset=scr_e, method='euler')\n",
    "neuron_groups['L4_i_FN_v'].v   = v_rest_i - 40.*mV\n",
    "neuron_groups['L4_FN_v'].v     = v_rest_e - 40.*mV \n",
    "neuron_groups['L4_FN_v'].theta = np.ones((n_L4)) * 20.0*mV\n",
    "\n",
    "neuron_groups['L4_v']          = NeuronGroup(n_L4, neuron_eqs_e, threshold=v_thresh_e_str, refractory=refrac_e, reset=scr_e, method='euler')\n",
    "neuron_groups['L4_v'].v        = v_rest_e - 40.*mV \n",
    "neuron_groups['L4_v'].theta    = np.ones((n_L4)) * 20.0*mV\n",
    "\n",
    "\n",
    "# horizontal\n",
    "# ON first - OFF second\n",
    "neuron_groups['L4_i_NF_h']     = NeuronGroup(n_L4, neuron_eqs_i, threshold=v_thresh_i_str, refractory=refrac_i, reset=v_reset_i_str, method='euler')\n",
    "neuron_groups['L4_NF_h']       = NeuronGroup(n_L4, neuron_eqs_e, threshold=v_thresh_e_str, refractory=refrac_e, reset=scr_e, method='euler')\n",
    "neuron_groups['L4_i_NF_h'].v   = v_rest_i - 40.*mV\n",
    "neuron_groups['L4_NF_h'].v     = v_rest_e - 40.*mV \n",
    "neuron_groups['L4_NF_h'].theta = np.ones((n_L4)) * 20.0*mV\n",
    "\n",
    "# OFF first - ON second\n",
    "neuron_groups['L4_i_FN_h']     = NeuronGroup(n_L4, neuron_eqs_i, threshold=v_thresh_i_str, refractory=refrac_i, reset=v_reset_i_str, method='euler')\n",
    "neuron_groups['L4_FN_h']       = NeuronGroup(n_L4, neuron_eqs_e, threshold=v_thresh_e_str, refractory=refrac_e, reset=scr_e, method='euler')\n",
    "neuron_groups['L4_i_FN_h'].v   = v_rest_i - 40.*mV\n",
    "neuron_groups['L4_FN_h'].v     = v_rest_e - 40.*mV \n",
    "neuron_groups['L4_FN_h'].theta = np.ones((n_L4)) * 20.0*mV\n",
    "\n",
    "neuron_groups['L4_h']          = NeuronGroup(n_L4, neuron_eqs_e, threshold=v_thresh_e_str, refractory=refrac_e, reset=scr_e, method='euler')\n",
    "neuron_groups['L4_h'].v        = v_rest_e - 40.*mV \n",
    "neuron_groups['L4_h'].theta    = np.ones((n_L4)) * 20.0*mV\n",
    "\n",
    "\n",
    "input_groups = {}\n",
    "input_groups['LGN_on']   = PoissonGroup(n_LGN, 0*Hz)\n",
    "input_groups['LGN_off']  = PoissonGroup(n_LGN, 0*Hz)"
   ]
  },
  {
   "cell_type": "code",
   "execution_count": 10,
   "metadata": {},
   "outputs": [],
   "source": [
    "# without STDP\n",
    "model = 'w : 1'\n",
    "pre_e = 'g_e_post += w'\n",
    "pre_i = 'g_i_post += w'\n",
    "post = ''\n",
    "\n",
    "# with STDP\n",
    "stdp_model = '''\n",
    "    post2_temp                          : 1\n",
    "    w                                   : 1\n",
    "    dpre/dt   =   -pre/(tc_pre)         : 1 (event-driven)\n",
    "    dpost1/dt  = -post1/(tc_post_1)     : 1 (event-driven)\n",
    "    dpost2/dt  = -post2/(tc_post_2)     : 1 (event-driven)\n",
    "'''\n",
    "stdp_pre_e = 'pre = 1.; w = clip(w + nu_pre * post1, 0, wmax); g_e_post += w;'\n",
    "stdp_pre_i = 'pre = 1.; w = clip(w + nu_pre * post1, 0, wmax); g_i_post += w;'\n",
    "stdp_post  = 'post2_temp = post2; post1 = 1.; post2 = 1.; w = clip(w + nu_post * pre * post2_temp, 0, wmax)'"
   ]
  },
  {
   "cell_type": "code",
   "execution_count": 11,
   "metadata": {},
   "outputs": [
    {
     "name": "stdout",
     "output_type": "stream",
     "text": [
      "(3200, 3) ./initial_weights/LGN_L4_v_on.npy\n"
     ]
    },
    {
     "name": "stderr",
     "output_type": "stream",
     "text": [
      "WARNING    Cannot use Cython, a test compilation failed: Microsoft Visual C++ 14.0 is required. Get it with \"Microsoft Visual C++ Build Tools\": https://visualstudio.microsoft.com/downloads/ (DistutilsPlatformError) [brian2.codegen.runtime.cython_rt.cython_rt.failed_compile_test]\n",
      "INFO       Cannot use compiled code, falling back to the numpy code generation target. Note that this will likely be slower than using compiled code. Set the code generation to numpy manually to avoid this message:\n",
      "prefs.codegen.target = \"numpy\" [brian2.devices.device.codegen_fallback]\n"
     ]
    },
    {
     "name": "stdout",
     "output_type": "stream",
     "text": [
      "(3200, 3) ./initial_weights/LGN_L4_v_off.npy\n",
      "(3200, 3) ./initial_weights/LGN_L4_v_on.npy\n",
      "(3200, 3) ./initial_weights/LGN_L4_v_off.npy\n",
      "(3200, 3) ./initial_weights/LGN_L4_v_on.npy\n",
      "(3200, 3) ./initial_weights/LGN_L4_v_off.npy\n",
      "(3200, 3) ./initial_weights/LGN_L4_v_on.npy\n",
      "(3200, 3) ./initial_weights/LGN_L4_v_off.npy\n",
      "(3200, 3) ./initial_weights/LGN_L4_h_on.npy\n",
      "(3200, 3) ./initial_weights/LGN_L4_h_off.npy\n",
      "(3200, 3) ./initial_weights/LGN_L4_h_on.npy\n",
      "(3200, 3) ./initial_weights/LGN_L4_h_off.npy\n",
      "(3200, 3) ./initial_weights/LGN_L4_h_on.npy\n",
      "(3200, 3) ./initial_weights/LGN_L4_h_off.npy\n",
      "(3200, 3) ./initial_weights/LGN_L4_h_on.npy\n",
      "(3200, 3) ./initial_weights/LGN_L4_h_off.npy\n",
      "(400, 3) ./initial_weights/L4_i_L4.npy\n",
      "(400, 3) ./initial_weights/L4_i_L4.npy\n",
      "(400, 3) ./initial_weights/L4_i_L4.npy\n",
      "(400, 3) ./initial_weights/L4_i_L4.npy\n",
      "(400, 3) ./initial_weights/L4_i_L4.npy\n",
      "(400, 3) ./initial_weights/L4_i_L4.npy\n",
      "(400, 3) ./initial_weights/L4_i_L4.npy\n",
      "(400, 3) ./initial_weights/L4_i_L4.npy\n"
     ]
    }
   ],
   "source": [
    "connections = {}\n",
    "#[name, shape, weight_file, source, target, equation_type]\n",
    "\n",
    "input_neuron_conn = [\n",
    "    ['LGN_on_L4_NF_v', (n_LGN, n_L4), 'LGN_L4_v_on.npy', 'LGN_on', 'L4_NF_v', 'e'],\n",
    "    ['LGN_off_L4_NF_v', (n_LGN, n_L4), 'LGN_L4_v_off.npy', 'LGN_off', 'L4_NF_v', 'e'],\n",
    "    ['LGN_off_L4_i_NF_v', (n_LGN, n_L4), 'LGN_L4_v_on.npy', 'LGN_off', 'L4_i_NF_v', 'e'],\n",
    "    ['LGN_on_L4_i_NF_v', (n_LGN, n_L4), 'LGN_L4_v_off.npy', 'LGN_on', 'L4_i_NF_v', 'e'],\n",
    "    \n",
    "    ['LGN_off_L4_FN_v', (n_LGN, n_L4), 'LGN_L4_v_on.npy', 'LGN_off', 'L4_FN_v', 'e'],\n",
    "    ['LGN_on_L4_FN_v', (n_LGN, n_L4), 'LGN_L4_v_off.npy', 'LGN_on', 'L4_FN_v', 'e'],\n",
    "    ['LGN_on_L4_i_FN_v', (n_LGN, n_L4), 'LGN_L4_v_on.npy', 'LGN_on', 'L4_i_FN_v', 'e'],\n",
    "    ['LGN_off_L4_i_FN_v', (n_LGN, n_L4), 'LGN_L4_v_off.npy', 'LGN_off', 'L4_i_FN_v', 'e'],\n",
    "    \n",
    "    ['LGN_on_L4_NF_h', (n_LGN, n_L4), 'LGN_L4_h_on.npy', 'LGN_on', 'L4_NF_h', 'e'],\n",
    "    ['LGN_off_L4_NF_h', (n_LGN, n_L4), 'LGN_L4_h_off.npy', 'LGN_off', 'L4_NF_h', 'e'],\n",
    "    ['LGN_off_L4_i_NF_h', (n_LGN, n_L4), 'LGN_L4_h_on.npy', 'LGN_off', 'L4_i_NF_h', 'e'],\n",
    "    ['LGN_on_L4_i_NF_h', (n_LGN, n_L4), 'LGN_L4_h_off.npy', 'LGN_on', 'L4_i_NF_h', 'e'],\n",
    "    \n",
    "    ['LGN_off_L4_FN_h', (n_LGN, n_L4), 'LGN_L4_h_on.npy', 'LGN_off', 'L4_FN_h', 'e'],\n",
    "    ['LGN_on_L4_FN_h', (n_LGN, n_L4), 'LGN_L4_h_off.npy', 'LGN_on', 'L4_FN_h', 'e'],\n",
    "    ['LGN_on_L4_i_FN_h', (n_LGN, n_L4), 'LGN_L4_h_on.npy', 'LGN_on', 'L4_i_FN_h', 'e'],\n",
    "    ['LGN_off_L4_i_FN_h', (n_LGN, n_L4), 'LGN_L4_h_off.npy', 'LGN_off', 'L4_i_FN_h', 'e']\n",
    "]\n",
    "\n",
    "neuron_neuron_conn = [\n",
    "    ['L4_i_L4_NF_v', (n_L4, n_L4), 'L4_i_L4.npy', 'L4_i_NF_v', 'L4_NF_v', 'i'],\n",
    "    ['L4_i_L4_FN_v', (n_L4, n_L4), 'L4_i_L4.npy', 'L4_i_FN_v', 'L4_FN_v', 'i'],\n",
    "    ['L4_NF_L4_v', (n_L4, n_L4), 'L4_i_L4.npy', 'L4_NF_v', 'L4_v', 'e'],\n",
    "    ['L4_FN_L4_v', (n_L4, n_L4), 'L4_i_L4.npy', 'L4_FN_v', 'L4_v', 'e'],\n",
    "    \n",
    "    ['L4_i_L4_NF_h', (n_L4, n_L4), 'L4_i_L4.npy', 'L4_i_NF_h', 'L4_NF_h', 'i'],\n",
    "    ['L4_i_L4_FN_h', (n_L4, n_L4), 'L4_i_L4.npy', 'L4_i_FN_h', 'L4_FN_h', 'i'],\n",
    "    ['L4_NF_L4_h', (n_L4, n_L4), 'L4_i_L4.npy', 'L4_NF_h', 'L4_h', 'e'],\n",
    "    ['L4_FN_L4_h', (n_L4, n_L4), 'L4_i_L4.npy', 'L4_FN_h', 'L4_h', 'e'],\n",
    "]\n",
    "\n",
    "\n",
    "for conn in input_neuron_conn:\n",
    "    name = conn[0]\n",
    "    shape = conn[1]\n",
    "    weight_file = conn[2]\n",
    "    source = conn[3]\n",
    "    target = conn[4]\n",
    "    \n",
    "    weightMatrix = get_matrix_from_file(weight_path + weight_file, shape)\n",
    "    connections[name]= Synapses(input_groups[source], neuron_groups[target], model=model, on_pre=pre_e, on_post=post)\n",
    "    connections[name].connect(True)\n",
    "    connections[name].w = weightMatrix[connections[name].i, connections[name].j]\n",
    "    connections[name].delay = 'minDelay + rand() * deltaDelay'\n",
    "    \n",
    "    \n",
    "for conn in neuron_neuron_conn:\n",
    "    name = conn[0]\n",
    "    shape = conn[1]\n",
    "    weight_file = conn[2]\n",
    "    source = conn[3]\n",
    "    target = conn[4]\n",
    "    equation = conn[5]\n",
    "    if (equation == 'e'):\n",
    "        pre = pre_e\n",
    "    elif (equation == 'i'):\n",
    "        pre = pre_i\n",
    "    \n",
    "    weightMatrix = get_matrix_from_file(weight_path + weight_file, shape)\n",
    "    connections[name]= Synapses(neuron_groups[source], neuron_groups[target], model=model, on_pre=pre, on_post=post)\n",
    "    connections[name].connect(True)\n",
    "    connections[name].w = weightMatrix[connections[name].i, connections[name].j]"
   ]
  },
  {
   "cell_type": "code",
   "execution_count": 12,
   "metadata": {},
   "outputs": [],
   "source": [
    "spike_counter = SpikeMonitor(neuron_groups['L4_v'])\n",
    "\n",
    "# used for ploting after training\n",
    "spike_monitors = {}\n",
    "\n",
    "spike_monitors['LGN_on']      = SpikeMonitor(input_groups['LGN_on'])\n",
    "spike_monitors['LGN_off']     = SpikeMonitor(input_groups['LGN_off'])\n",
    "\n",
    "spike_monitors['L4_i_NF_v']   = SpikeMonitor(neuron_groups['L4_i_NF_v'])\n",
    "spike_monitors['L4_NF_v']     = SpikeMonitor(neuron_groups['L4_NF_v'])\n",
    "spike_monitors['L4_i_FN_v']   = SpikeMonitor(neuron_groups['L4_i_FN_v'])\n",
    "spike_monitors['L4_FN_v']     = SpikeMonitor(neuron_groups['L4_FN_v'])\n",
    "spike_monitors['L4_v']        = SpikeMonitor(neuron_groups['L4_v'])\n",
    "\n",
    "spike_monitors['L4_i_NF_h']   = SpikeMonitor(neuron_groups['L4_i_NF_h'])\n",
    "spike_monitors['L4_NF_h']     = SpikeMonitor(neuron_groups['L4_NF_h'])\n",
    "spike_monitors['L4_i_FN_h']   = SpikeMonitor(neuron_groups['L4_i_FN_h'])\n",
    "spike_monitors['L4_FN_h']     = SpikeMonitor(neuron_groups['L4_FN_h'])\n",
    "spike_monitors['L4_h']        = SpikeMonitor(neuron_groups['L4_h'])"
   ]
  },
  {
   "cell_type": "code",
   "execution_count": 13,
   "metadata": {},
   "outputs": [
    {
     "name": "stdout",
     "output_type": "stream",
     "text": [
      "L4_i_NF_v NeuronGroup(clock=Clock(dt=100. * usecond, name='defaultclock'), when=start, order=0, name='neurongroup')\n",
      "L4_NF_v NeuronGroup(clock=Clock(dt=100. * usecond, name='defaultclock'), when=start, order=0, name='neurongroup_1')\n",
      "L4_i_FN_v NeuronGroup(clock=Clock(dt=100. * usecond, name='defaultclock'), when=start, order=0, name='neurongroup_2')\n",
      "L4_FN_v NeuronGroup(clock=Clock(dt=100. * usecond, name='defaultclock'), when=start, order=0, name='neurongroup_3')\n",
      "L4_v NeuronGroup(clock=Clock(dt=100. * usecond, name='defaultclock'), when=start, order=0, name='neurongroup_4')\n",
      "L4_i_NF_h NeuronGroup(clock=Clock(dt=100. * usecond, name='defaultclock'), when=start, order=0, name='neurongroup_5')\n",
      "L4_NF_h NeuronGroup(clock=Clock(dt=100. * usecond, name='defaultclock'), when=start, order=0, name='neurongroup_6')\n",
      "L4_i_FN_h NeuronGroup(clock=Clock(dt=100. * usecond, name='defaultclock'), when=start, order=0, name='neurongroup_7')\n",
      "L4_FN_h NeuronGroup(clock=Clock(dt=100. * usecond, name='defaultclock'), when=start, order=0, name='neurongroup_8')\n",
      "L4_h NeuronGroup(clock=Clock(dt=100. * usecond, name='defaultclock'), when=start, order=0, name='neurongroup_9')\n",
      "LGN_on PoissonGroup(1764, rates=0. * hertz)\n",
      "LGN_off PoissonGroup(1764, rates=0. * hertz)\n",
      "LGN_on_L4_NF_v Synapses(clock=Clock(dt=100. * usecond, name='defaultclock'), when=start, order=0, name='synapses')\n",
      "LGN_off_L4_NF_v Synapses(clock=Clock(dt=100. * usecond, name='defaultclock'), when=start, order=0, name='synapses_1')\n",
      "LGN_off_L4_i_NF_v Synapses(clock=Clock(dt=100. * usecond, name='defaultclock'), when=start, order=0, name='synapses_2')\n",
      "LGN_on_L4_i_NF_v Synapses(clock=Clock(dt=100. * usecond, name='defaultclock'), when=start, order=0, name='synapses_3')\n",
      "LGN_off_L4_FN_v Synapses(clock=Clock(dt=100. * usecond, name='defaultclock'), when=start, order=0, name='synapses_4')\n",
      "LGN_on_L4_FN_v Synapses(clock=Clock(dt=100. * usecond, name='defaultclock'), when=start, order=0, name='synapses_5')\n",
      "LGN_on_L4_i_FN_v Synapses(clock=Clock(dt=100. * usecond, name='defaultclock'), when=start, order=0, name='synapses_6')\n",
      "LGN_off_L4_i_FN_v Synapses(clock=Clock(dt=100. * usecond, name='defaultclock'), when=start, order=0, name='synapses_7')\n",
      "LGN_on_L4_NF_h Synapses(clock=Clock(dt=100. * usecond, name='defaultclock'), when=start, order=0, name='synapses_8')\n",
      "LGN_off_L4_NF_h Synapses(clock=Clock(dt=100. * usecond, name='defaultclock'), when=start, order=0, name='synapses_9')\n",
      "LGN_off_L4_i_NF_h Synapses(clock=Clock(dt=100. * usecond, name='defaultclock'), when=start, order=0, name='synapses_10')\n",
      "LGN_on_L4_i_NF_h Synapses(clock=Clock(dt=100. * usecond, name='defaultclock'), when=start, order=0, name='synapses_11')\n",
      "LGN_off_L4_FN_h Synapses(clock=Clock(dt=100. * usecond, name='defaultclock'), when=start, order=0, name='synapses_12')\n",
      "LGN_on_L4_FN_h Synapses(clock=Clock(dt=100. * usecond, name='defaultclock'), when=start, order=0, name='synapses_13')\n",
      "LGN_on_L4_i_FN_h Synapses(clock=Clock(dt=100. * usecond, name='defaultclock'), when=start, order=0, name='synapses_14')\n",
      "LGN_off_L4_i_FN_h Synapses(clock=Clock(dt=100. * usecond, name='defaultclock'), when=start, order=0, name='synapses_15')\n",
      "L4_i_L4_NF_v Synapses(clock=Clock(dt=100. * usecond, name='defaultclock'), when=start, order=0, name='synapses_16')\n",
      "L4_i_L4_FN_v Synapses(clock=Clock(dt=100. * usecond, name='defaultclock'), when=start, order=0, name='synapses_17')\n",
      "L4_NF_L4_v Synapses(clock=Clock(dt=100. * usecond, name='defaultclock'), when=start, order=0, name='synapses_18')\n",
      "L4_FN_L4_v Synapses(clock=Clock(dt=100. * usecond, name='defaultclock'), when=start, order=0, name='synapses_19')\n",
      "L4_i_L4_NF_h Synapses(clock=Clock(dt=100. * usecond, name='defaultclock'), when=start, order=0, name='synapses_20')\n",
      "L4_i_L4_FN_h Synapses(clock=Clock(dt=100. * usecond, name='defaultclock'), when=start, order=0, name='synapses_21')\n",
      "L4_NF_L4_h Synapses(clock=Clock(dt=100. * usecond, name='defaultclock'), when=start, order=0, name='synapses_22')\n",
      "L4_FN_L4_h Synapses(clock=Clock(dt=100. * usecond, name='defaultclock'), when=start, order=0, name='synapses_23')\n",
      "LGN_on <SpikeMonitor, recording from spikemonitor_1>\n",
      "LGN_off <SpikeMonitor, recording from spikemonitor_2>\n",
      "L4_i_NF_v <SpikeMonitor, recording from spikemonitor_3>\n",
      "L4_NF_v <SpikeMonitor, recording from spikemonitor_4>\n",
      "L4_i_FN_v <SpikeMonitor, recording from spikemonitor_5>\n",
      "L4_FN_v <SpikeMonitor, recording from spikemonitor_6>\n",
      "L4_v <SpikeMonitor, recording from spikemonitor_7>\n",
      "L4_i_NF_h <SpikeMonitor, recording from spikemonitor_8>\n",
      "L4_NF_h <SpikeMonitor, recording from spikemonitor_9>\n",
      "L4_i_FN_h <SpikeMonitor, recording from spikemonitor_10>\n",
      "L4_FN_h <SpikeMonitor, recording from spikemonitor_11>\n",
      "L4_h <SpikeMonitor, recording from spikemonitor_12>\n",
      "spike counter <SpikeMonitor, recording from spikemonitor>\n"
     ]
    }
   ],
   "source": [
    "net = Network()\n",
    "for obj_list in [neuron_groups, input_groups, connections, spike_monitors]:\n",
    "    for key in obj_list:\n",
    "        print(key, obj_list[key])\n",
    "        net.add(obj_list[key])\n",
    "print('spike counter', spike_counter)\n",
    "net.add(spike_counter)"
   ]
  },
  {
   "cell_type": "code",
   "execution_count": 14,
   "metadata": {},
   "outputs": [],
   "source": [
    "previous_spike_count = np.zeros(n_L4)\n",
    "\n",
    "input_groups['LGN_on'].rates = 0 * Hz\n",
    "input_groups['LGN_off'].rates = 0 * Hz\n",
    "\n",
    "net.run(0*second)\n",
    "\n",
    "j = 0"
   ]
  },
  {
   "cell_type": "code",
   "execution_count": 15,
   "metadata": {},
   "outputs": [
    {
     "name": "stdout",
     "output_type": "stream",
     "text": [
      "run example number: 0 of 12\n",
      "Starting simulation at t=0. s for a duration of 0.35 s\n",
      "0.1992 (56%) simulated in 10s, estimated 8s remaining.\n",
      "0.35 (100%) simulated in 17s\n",
      "S - spike count 28.0\n",
      "run example number: 1 of 12\n",
      "Starting simulation at t=0.5 s for a duration of 0.35 s\n",
      "0.09351176470588239 (26%) simulated in 10s, estimated 27s remaining.\n",
      "0.35 (100%) simulated in 15s\n",
      "S - spike count 40\n",
      "run example number: 2 of 12\n",
      "Starting simulation at t=1. s for a duration of 0.35 s\n",
      "0.06253333333333334 (17%) simulated in 10s, estimated 46s remaining.\n",
      "0.35 (100%) simulated in 14s\n",
      "S - spike count 40\n",
      "run example number: 3 of 12\n",
      "Starting simulation at t=1.5 s for a duration of 0.35 s\n",
      "0.03191621621621623 (9%) simulated in 10s, estimated 1m 40s remaining.\n",
      "0.06415405405405408 (18%) simulated in 20s, estimated 1m 29s remaining.\n",
      "0.35 (100%) simulated in 20s\n",
      "S - spike count 73\n",
      "run example number: 4 of 12\n",
      "Starting simulation at t=2. s for a duration of 0.35 s\n",
      "0.026942553191489402 (7%) simulated in 10s, estimated 2m 0s remaining.\n",
      "0.35 (100%) simulated in 19s\n",
      "S - spike count 49\n",
      "run example number: 5 of 12\n",
      "Starting simulation at t=2.5 s for a duration of 0.35 s\n",
      "0.022903508771929836 (6%) simulated in 10s, estimated 2m 23s remaining.\n",
      "0.35 (100%) simulated in 19s\n",
      "S - spike count 57\n",
      "run example number: 6 of 12\n",
      "Starting simulation at t=3. s for a duration of 0.35 s\n",
      "0.018450746268656726 (5%) simulated in 10s, estimated 3m 0s remaining.\n",
      "0.35 (100%) simulated in 19s\n",
      "S - spike count 68\n",
      "run example number: 7 of 12\n",
      "Starting simulation at t=3.5 s for a duration of 0.35 s\n",
      "0.015645454545454577 (4%) simulated in 10s, estimated 3m 34s remaining.\n",
      "0.03160000000000003 (9%) simulated in 20s, estimated 3m 22s remaining.\n",
      "0.35 (100%) simulated in 20s\n",
      "S - spike count 79\n",
      "run example number: 8 of 12\n",
      "Starting simulation at t=4. s for a duration of 0.35 s\n",
      "0.013283908045976995 (3%) simulated in 10s, estimated 4m 14s remaining.\n",
      "0.02690574712643682 (7%) simulated in 20s, estimated 4m 0s remaining.\n",
      "0.35 (100%) simulated in 20s\n",
      "S - spike count 67\n",
      "run example number: 9 of 12\n",
      "Starting simulation at t=4.5 s for a duration of 0.35 s\n",
      "0.012354639175257719 (3%) simulated in 10s, estimated 4m 33s remaining.\n",
      "0.024976288659793802 (7%) simulated in 20s, estimated 4m 20s remaining.\n",
      "0.35 (100%) simulated in 20s\n",
      "S - spike count 62\n",
      "run example number: 10 of 12\n",
      "Starting simulation at t=5. s for a duration of 0.35 s\n",
      "0.012115887850467293 (3%) simulated in 10s, estimated 4m 39s remaining.\n",
      "0.022400000000000034 (6%) simulated in 20s, estimated 4m 53s remaining.\n",
      "0.35 (100%) simulated in 20s\n",
      "S - spike count 60\n",
      "run example number: 11 of 12\n",
      "Starting simulation at t=5.5 s for a duration of 0.35 s\n",
      "0.010595726495726512 (3%) simulated in 10s, estimated 5m 20s remaining.\n",
      "0.02056324786324787 (5%) simulated in 20s, estimated 5m 20s remaining.\n",
      "0.35 (100%) simulated in 20s\n",
      "S - spike count 61\n"
     ]
    }
   ],
   "source": [
    "while j < (num_epochs):\n",
    "\n",
    "    spike_rates_on = stimuli_on.reshape((n_LGN)) / 8. *  input_intensity\n",
    "    spike_rates_off = stimuli_off.reshape((n_LGN)) / 8. *  input_intensity\n",
    "    \n",
    "    input_groups['LGN_on'].rates = spike_rates_on * Hz\n",
    "    input_groups['LGN_off'].rates = spike_rates_off * Hz\n",
    "    \n",
    "    print('run example number:', j, 'of', num_epochs)\n",
    "    \n",
    "    net.run(single_example_time, report='text')   # 0.35 s\n",
    "\n",
    "    current_spike_count = np.asarray(spike_counter.count[:]) - previous_spike_count\n",
    "    previous_spike_count = np.copy(spike_counter.count[:])\n",
    "    \n",
    "    if np.sum(current_spike_count) < 1:\n",
    "        if (input_intensity == 10):\n",
    "            break;\n",
    "            \n",
    "        print(\"Fail - spike count\", np.sum(current_spike_count))\n",
    "        input_intensity += 1\n",
    "        \n",
    "        input_groups['LGN_on'].rates = 0 * Hz\n",
    "        input_groups['LGN_off'].rates = 0 * Hz\n",
    "        net.run(resting_time) \n",
    "    \n",
    "    else:     \n",
    "        print(\"S - spike count\", np.sum(current_spike_count))\n",
    "        \n",
    "        if j % 100 == 0 and j > 0:\n",
    "            print('runs done:', j, 'of', num_epochs)\n",
    "\n",
    "        input_groups['LGN_on'].rates = 0 * Hz\n",
    "        input_groups['LGN_off'].rates = 0 * Hz\n",
    "        \n",
    "        net.run(resting_time)\n",
    "        input_intensity = start_input_intensity\n",
    "        j += 1"
   ]
  },
  {
   "cell_type": "code",
   "execution_count": 16,
   "metadata": {},
   "outputs": [
    {
     "data": {
      "image/png": "[encoded data removed]",
      "text/plain": [
       "<Figure size 432x432 with 2 Axes>"
      ]
     },
     "metadata": {
      "needs_background": "light"
     },
     "output_type": "display_data"
    }
   ],
   "source": [
    "plot_spike_counts('L4_h', (n_length, n_length), fig_num)\n",
    "fig_num += 1"
   ]
  },
  {
   "cell_type": "code",
   "execution_count": 17,
   "metadata": {},
   "outputs": [
    {
     "data": {
      "image/png": "[encoded data removed]",
      "text/plain": [
       "<Figure size 432x432 with 2 Axes>"
      ]
     },
     "metadata": {
      "needs_background": "light"
     },
     "output_type": "display_data"
    }
   ],
   "source": [
    "plot_spike_counts('L4_v', (n_length, n_length), fig_num)\n",
    "fig_num += 1"
   ]
  },
  {
   "cell_type": "code",
   "execution_count": 18,
   "metadata": {},
   "outputs": [
    {
     "data": {
      "image/png": "[encoded data removed]",
      "text/plain": [
       "<Figure size 432x432 with 2 Axes>"
      ]
     },
     "metadata": {
      "needs_background": "light"
     },
     "output_type": "display_data"
    }
   ],
   "source": [
    "plot_spike_counts('L4_FN_v', (n_length, n_length), fig_num)\n",
    "fig_num += 1"
   ]
  },
  {
   "cell_type": "code",
   "execution_count": 19,
   "metadata": {},
   "outputs": [
    {
     "data": {
      "image/png": "[encoded data removed]",
      "text/plain": [
       "<Figure size 432x432 with 2 Axes>"
      ]
     },
     "metadata": {
      "needs_background": "light"
     },
     "output_type": "display_data"
    }
   ],
   "source": [
    "plot_spike_counts('L4_i_FN_v', (n_length, n_length), fig_num)\n",
    "fig_num += 1"
   ]
  },
  {
   "cell_type": "code",
   "execution_count": 20,
   "metadata": {},
   "outputs": [
    {
     "data": {
      "image/png": "[encoded data removed]",
      "text/plain": [
       "<Figure size 432x432 with 2 Axes>"
      ]
     },
     "metadata": {
      "needs_background": "light"
     },
     "output_type": "display_data"
    }
   ],
   "source": [
    "plot_spike_counts('LGN_on', (s_length, s_length), fig_num)\n",
    "fig_num += 1"
   ]
  },
  {
   "cell_type": "code",
   "execution_count": 21,
   "metadata": {},
   "outputs": [
    {
     "data": {
      "image/png": "[encoded data removed]",
      "text/plain": [
       "<Figure size 432x432 with 2 Axes>"
      ]
     },
     "metadata": {
      "needs_background": "light"
     },
     "output_type": "display_data"
    }
   ],
   "source": [
    "plot_spike_counts('LGN_off', (s_length, s_length), fig_num)\n",
    "fig_num += 1"
   ]
  },
  {
   "cell_type": "code",
   "execution_count": 22,
   "metadata": {},
   "outputs": [],
   "source": [
    "# plot(state_monitors['L4_v'].t/ms, state_monitors['L4_v'].v[0], label='L4_v')\n",
    "# plot(state_monitors['L4_i_v'].t/ms, state_monitors['L4_i_v'].v[0], label='L4_i_v')\n",
    "# xlabel('Time (ms)')\n",
    "# ylabel('v')\n",
    "# legend();"
   ]
  },
  {
   "cell_type": "code",
   "execution_count": null,
   "metadata": {},
   "outputs": [],
   "source": []
  },
  {
   "cell_type": "code",
   "execution_count": null,
   "metadata": {},
   "outputs": [],
   "source": []
  },
  {
   "cell_type": "code",
   "execution_count": null,
   "metadata": {},
   "outputs": [],
   "source": []
  },
  {
   "cell_type": "code",
   "execution_count": null,
   "metadata": {},
   "outputs": [],
   "source": []
  },
  {
   "cell_type": "code",
   "execution_count": null,
   "metadata": {},
   "outputs": [],
   "source": []
  }
 ],
 "metadata": {
  "kernelspec": {
   "display_name": "SNN simulator",
   "language": "python",
   "name": "sim"
  },
  "language_info": {
   "codemirror_mode": {
    "name": "ipython",
    "version": 3
   },
   "file_extension": ".py",
   "mimetype": "text/x-python",
   "name": "python",
   "nbconvert_exporter": "python",
   "pygments_lexer": "ipython3",
   "version": "3.6.8"
  }
 },
 "nbformat": 4,
 "nbformat_minor": 2
}
