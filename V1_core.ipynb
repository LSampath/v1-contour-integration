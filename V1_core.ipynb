{
 "cells": [
  {
   "cell_type": "code",
   "execution_count": 22,
   "metadata": {},
   "outputs": [],
   "source": [
    "import numpy as np\n",
    "import matplotlib.cm as cmap\n",
    "import matplotlib.pyplot as plt\n",
    "import time\n",
    "import os.path\n",
    "import scipy\n",
    "import pickle as pickle\n",
    "from struct import unpack\n",
    "from brian2 import *\n",
    "import brian2\n",
    "from brian2tools import *\n",
    "from PIL import Image\n",
    "import scipy.signal as signal\n",
    "import warnings\n",
    "warnings.simplefilter('ignore')"
   ]
  },
  {
   "cell_type": "code",
   "execution_count": 23,
   "metadata": {},
   "outputs": [],
   "source": [
    "def plot_spike_counts(name, layer_shape):\n",
    "    x_L = layer_shape[0]\n",
    "    y_L = layer_shape[1]\n",
    "    spike_copy = np.copy(spike_monitors[name].count)\n",
    "    spike_matrix = np.zeros(layer_shape)\n",
    "    for i in range(y_L):\n",
    "        for j in range(x_L):\n",
    "            spike_matrix[i,j] = spike_copy[i*x_L + j]\n",
    "\n",
    "    unique_list = unique(spike_matrix)\n",
    "    max_val = max(unique_list)\n",
    "    min_val = min(unique_list)\n",
    "\n",
    "    fig = figure(fig_num, figsize = (6, 6))\n",
    "    im2 = imshow(spike_matrix, interpolation = \"nearest\", vmin = min_val, vmax = max_val , cmap = cmap.get_cmap('hot_r'))\n",
    "    colorbar(im2)\n",
    "    title('number of spikes - ' + name + ' layer')"
   ]
  },
  {
   "cell_type": "code",
   "execution_count": 24,
   "metadata": {},
   "outputs": [],
   "source": [
    "def get_spike_counts(name, layer_shape):\n",
    "    x_L = layer_shape[0]\n",
    "    y_L = layer_shape[1]\n",
    "    spike_copy = np.copy(spike_monitors[name].count)\n",
    "    spike_matrix = np.zeros(layer_shape)\n",
    "    for i in range(y_L):\n",
    "        for j in range(x_L):\n",
    "            spike_matrix[i,j] = spike_copy[i*x_L + j]\n",
    "\n",
    "    return spike_matrix"
   ]
  },
  {
   "cell_type": "code",
   "execution_count": 25,
   "metadata": {},
   "outputs": [],
   "source": [
    "def get_matrix_from_file(fileName, shape):\n",
    "    readout = np.load(fileName)\n",
    "#     print(readout.shape, fileName)\n",
    "    value_arr = np.zeros(shape)\n",
    "    if not readout.shape == (0,):\n",
    "        value_arr[np.int32(readout[:,0]), np.int32(readout[:,1])] = readout[:,2]\n",
    "    return value_arr"
   ]
  },
  {
   "cell_type": "code",
   "execution_count": 26,
   "metadata": {},
   "outputs": [],
   "source": [
    "def gaussian2D(x, y, sigma):\n",
    "    return (1.0/(1*math.pi*(sigma**2)))*math.exp(-(1.0/(sigma**2))*(x**2 + y**2))\n",
    "\n",
    "def mexicanHat(x,y,sigma1,sigma2): \n",
    "    return gaussian2D(x,y,sigma1) - gaussian2D(x,y,sigma2)\n",
    "\n",
    "def receptiveFieldMatrix(func):\n",
    "    h = 5\n",
    "    g = np.zeros((h,h))\n",
    "    for xi in range(0,h):\n",
    "        for yi in range(0,h):\n",
    "            x = xi-int(h/2)\n",
    "            y = yi-int(h/2)\n",
    "            g[xi, yi] = func(x,y);\n",
    "    return g"
   ]
  },
  {
   "cell_type": "code",
   "execution_count": 27,
   "metadata": {},
   "outputs": [],
   "source": [
    "def plot_image(image, fig_num):\n",
    "    unique_list = unique(image)\n",
    "    max_val = max(unique_list)\n",
    "    min_val = min(unique_list)\n",
    "    fig = figure(fig_num, figsize = (5, 5))\n",
    "#     img = imshow(image, interpolation = \"nearest\", vmin = min_val, vmax = max_val , cmap = cmap.get_cmap('hot_r'))\n",
    "    img = imshow(image, interpolation = \"nearest\", cmap = cmap.get_cmap('binary'))\n",
    "    colorbar(img)"
   ]
  },
  {
   "cell_type": "code",
   "execution_count": 28,
   "metadata": {},
   "outputs": [],
   "source": [
    "def tune_stimuli(data):\n",
    "    data = (data - data.min()) / (data.max() - data.min())\n",
    "    q95 = np.percentile(data, 95)\n",
    "    data = np.where((data > q95), q95, data)\n",
    "    data = np.exp(data*15)\n",
    "    data = (data - data.min()) / (data.max() - data.min())\n",
    "    data *= 20\n",
    "    return data"
   ]
  },
  {
   "cell_type": "markdown",
   "metadata": {},
   "source": [
    "# CODE"
   ]
  },
  {
   "cell_type": "code",
   "execution_count": 29,
   "metadata": {},
   "outputs": [],
   "source": [
    "stimuli_file = './pic_80_G.tif'\n",
    "weight_path = './initial_weights/'\n",
    "save_path = './saved_weights/'\n",
    "\n",
    "fig_num = 1\n",
    "\n",
    "length = 80\n",
    "field_size = 2                     # 2/3/4/5/6\n",
    "\n",
    "w_s = field_size*1                # simple cell width\n",
    "l_s = field_size*2                # simple_cell_length\n",
    "\n",
    "n_LGN = length*length\n",
    "n_L4  = (length//(w_s*2))*(length//l_s)\n",
    "n_L3  = n_L4\n",
    "n_L2  = n_L3\n",
    "\n",
    "num_epochs = 7\n",
    "\n",
    "single_example_time = 0.35 * second\n",
    "resting_time = 0.15 * second\n",
    "\n",
    "delay = {}\n",
    "delay = (0*ms, 10*ms)              # min and max delay\n",
    "minDelay = delay[0]\n",
    "maxDelay = delay[1]\n",
    "deltaDelay = maxDelay - minDelay\n",
    "\n",
    "# neural model parameters\n",
    "v_rest_e = -65. * mV\n",
    "v_rest_i = -60. * mV\n",
    "v_reset_e = -65. * mV\n",
    "v_reset_i = -45. * mV\n",
    "v_thresh_e = -52. * mV\n",
    "v_thresh_i = -40. * mV\n",
    "refrac_e = 5. * ms\n",
    "refrac_i = 2. * ms\n",
    "tc_theta = 1e7 * ms\n",
    "theta_plus_e = 0.05 * mV\n",
    "offset = 20.0 * mV\n",
    "\n",
    "# STDP parameters\n",
    "tc_pre = 20*ms\n",
    "tc_post_1 = 20*ms\n",
    "tc_post_2 = 40*ms\n",
    "nu_pre =  0.0001\n",
    "nu_post = 0.01\n",
    "wmax = 100.0\n",
    "\n",
    "input_intensity = 1.\n",
    "start_input_intensity = input_intensity\n",
    "\n",
    "update_interval = 2"
   ]
  },
  {
   "cell_type": "code",
   "execution_count": 30,
   "metadata": {},
   "outputs": [
    {
     "data": {
      "image/png": "[encoded data removed]",
      "text/plain": [
       "<Figure size 720x216 with 3 Axes>"
      ]
     },
     "metadata": {
      "needs_background": "light"
     },
     "output_type": "display_data"
    }
   ],
   "source": [
    "img = Image.open(stimuli_file)\n",
    "img.load()\n",
    "img_arr = np.asarray(img, dtype=\"int32\")\n",
    "stimuli = np.absolute(img_arr)/255\n",
    "img.close()\n",
    "\n",
    "stimuli_on = signal.convolve(stimuli, receptiveFieldMatrix(lambda x,y:mexicanHat(x,y,1,1.1)), mode='same')\n",
    "stimuli_on = tune_stimuli(stimuli_on)\n",
    "\n",
    "stimuli_off = signal.convolve(stimuli, receptiveFieldMatrix(lambda x,y:mexicanHat(x,y,1.1,1)), mode='same')\n",
    "stimuli_off = tune_stimuli(stimuli_off)\n",
    "\n",
    "c, axarr = subplots(1, 3, figsize = (10, 3))\n",
    "\n",
    "axarr[0].imshow(stimuli, cmap = cmap.get_cmap('binary'))\n",
    "axarr[0].title.set_text('stimuli')\n",
    "\n",
    "axarr[1].imshow(stimuli_on, cmap = cmap.get_cmap('binary'))\n",
    "axarr[1].title.set_text('stimuli_on')\n",
    "\n",
    "axarr[2].imshow(stimuli_off, cmap = cmap.get_cmap('binary'))\n",
    "axarr[2].title.set_text('stimuli_off')"
   ]
  },
  {
   "cell_type": "code",
   "execution_count": 31,
   "metadata": {},
   "outputs": [
    {
     "data": {
      "text/plain": [
       "matplotlib.image.AxesImage"
      ]
     },
     "execution_count": 31,
     "metadata": {},
     "output_type": "execute_result"
    }
   ],
   "source": [
    "type(axarr[2].imshow(stimuli_off, cmap = cmap.get_cmap('binary')))"
   ]
  },
  {
   "cell_type": "code",
   "execution_count": 32,
   "metadata": {},
   "outputs": [],
   "source": [
    "scr_e = 'v = v_reset_e; theta += theta_plus_e; timer = 0*ms'\n",
    "v_reset_i_str = 'v = v_reset_i'\n",
    "\n",
    "v_thresh_e_str = '(v > (theta - offset + v_thresh_e)) and (timer > refrac_e)'\n",
    "v_thresh_i_str = 'v > v_thresh_i'\n",
    "\n",
    "neuron_eqs_e = '''\n",
    "        dv/dt = ((v_rest_e - v) + g_e*(-v) + g_i*(-100.*mV - v) ) / (100*ms)  : volt (unless refractory)\n",
    "        dg_e/dt = -g_e/(1.0*ms)                                    : 1\n",
    "        dg_i/dt = -g_i/(2.0*ms)                                    : 1\n",
    "        dtheta/dt = -theta/(1e7*ms)                                : volt\n",
    "        dtimer/dt = 0.1                                            : second\n",
    "'''\n",
    "\n",
    "neuron_eqs_i = '''\n",
    "        dv/dt = ((v_rest_i - v) +  g_e*(-v) + g_i*(-85.*mV - v)) / (10*ms)  : volt (unless refractory)\n",
    "        dg_e/dt = -g_e/(1.0*ms)                                    : 1\n",
    "        dg_i/dt = -g_i/(2.0*ms)                                    : 1\n",
    "'''\n",
    "\n",
    "\n",
    "neuron_groups = {}\n",
    "\n",
    "neuron_groups_list = [\n",
    "    ['L4_i_NF_v', 'i'],\n",
    "    ['L4_NF_v', 'e'],\n",
    "    ['L4_i_FN_v', 'i'],\n",
    "    ['L4_FN_v', 'e'],\n",
    "    ['L4_v', 'e'],\n",
    "    \n",
    "    ['L4_i_NF_h', 'i'],\n",
    "    ['L4_NF_h', 'e'],\n",
    "    ['L4_i_FN_h', 'i'],\n",
    "    ['L4_FN_h', 'e'],\n",
    "    ['L4_h', 'e'],\n",
    "    \n",
    "    ['L4_i_NF_dr', 'i'],\n",
    "    ['L4_NF_dr', 'e'],\n",
    "    ['L4_i_FN_dr', 'i'],\n",
    "    ['L4_FN_dr', 'e'],\n",
    "    ['L4_dr', 'e'],\n",
    "    \n",
    "    ['L4_i_NF_dl', 'i'],\n",
    "    ['L4_NF_dl', 'e'],\n",
    "    ['L4_i_FN_dl', 'i'],\n",
    "    ['L4_FN_dl', 'e'],\n",
    "    ['L4_dl', 'e'],\n",
    "    \n",
    "    ['L4', 'e'],\n",
    "    ['L3', 'e']\n",
    "]\n",
    "\n",
    "for n_g in neuron_groups_list:\n",
    "    name = n_g[0]\n",
    "    e_i = n_g[1]\n",
    "    if (e_i == 'e'):\n",
    "        neuron_groups[name] = NeuronGroup(n_L4, neuron_eqs_e, threshold=v_thresh_e_str, refractory=refrac_e, reset=scr_e, method='euler')\n",
    "        neuron_groups[name].v    = v_rest_e - 40.*mV \n",
    "        neuron_groups[name].theta = np.ones((n_L4)) * 20.0*mV\n",
    "    elif (e_i == 'i'):\n",
    "        neuron_groups[name] = NeuronGroup(n_L4, neuron_eqs_i, threshold=v_thresh_i_str, refractory=refrac_i, reset=v_reset_i_str, method='euler')\n",
    "        neuron_groups[name].v    = v_rest_i - 40.*mV \n",
    "\n",
    "\n",
    "input_groups = {}\n",
    "input_groups['LGN_on']   = PoissonGroup(n_LGN, 0*Hz)\n",
    "input_groups['LGN_off']  = PoissonGroup(n_LGN, 0*Hz)"
   ]
  },
  {
   "cell_type": "code",
   "execution_count": 33,
   "metadata": {},
   "outputs": [],
   "source": [
    "# without STDP\n",
    "model = 'w : 1'\n",
    "pre_e = 'g_e_post += w'\n",
    "pre_i = 'g_i_post += w'\n",
    "post = ''\n",
    "\n",
    "# with STDP\n",
    "stdp_model = '''\n",
    "    post2_temp                          : 1\n",
    "    w                                   : 1\n",
    "    dpre/dt   =   -pre/(tc_pre)         : 1 (event-driven)\n",
    "    dpost1/dt  = -post1/(tc_post_1)     : 1 (event-driven)\n",
    "    dpost2/dt  = -post2/(tc_post_2)     : 1 (event-driven)\n",
    "'''\n",
    "stdp_pre_e = 'pre = 1.; w = clip(w + nu_pre * post1, 0, wmax); g_e_post += w;'\n",
    "stdp_pre_i = 'pre = 1.; w = clip(w + nu_pre * post1, 0, wmax); g_i_post += w;'\n",
    "stdp_post  = 'post2_temp = post2; post1 = 1.; post2 = 1.; w = clip(w + nu_post * pre * post2_temp, 0, wmax)'"
   ]
  },
  {
   "cell_type": "code",
   "execution_count": 34,
   "metadata": {},
   "outputs": [],
   "source": [
    "connections = {}\n",
    "#[name, shape, weight_file, source, target, equation_type]\n",
    "\n",
    "input_neuron_conn = [\n",
    "    ['LGN_on_L4_NF_v', (n_LGN, n_L4), 'LGN_L4_v_on.npy', 'LGN_on', 'L4_NF_v', 'e'],\n",
    "    ['LGN_off_L4_NF_v', (n_LGN, n_L4), 'LGN_L4_v_off.npy', 'LGN_off', 'L4_NF_v', 'e'],\n",
    "    ['LGN_off_L4_i_NF_v', (n_LGN, n_L4), 'LGN_L4_v_on.npy', 'LGN_off', 'L4_i_NF_v', 'e'],\n",
    "    ['LGN_on_L4_i_NF_v', (n_LGN, n_L4), 'LGN_L4_v_off.npy', 'LGN_on', 'L4_i_NF_v', 'e'],\n",
    "    \n",
    "    ['LGN_off_L4_FN_v', (n_LGN, n_L4), 'LGN_L4_v_on.npy', 'LGN_off', 'L4_FN_v', 'e'],\n",
    "    ['LGN_on_L4_FN_v', (n_LGN, n_L4), 'LGN_L4_v_off.npy', 'LGN_on', 'L4_FN_v', 'e'],\n",
    "    ['LGN_on_L4_i_FN_v', (n_LGN, n_L4), 'LGN_L4_v_on.npy', 'LGN_on', 'L4_i_FN_v', 'e'],\n",
    "    ['LGN_off_L4_i_FN_v', (n_LGN, n_L4), 'LGN_L4_v_off.npy', 'LGN_off', 'L4_i_FN_v', 'e'],\n",
    "    \n",
    "    ['LGN_on_L4_NF_h', (n_LGN, n_L4), 'LGN_L4_h_on.npy', 'LGN_on', 'L4_NF_h', 'e'],\n",
    "    ['LGN_off_L4_NF_h', (n_LGN, n_L4), 'LGN_L4_h_off.npy', 'LGN_off', 'L4_NF_h', 'e'],\n",
    "    ['LGN_off_L4_i_NF_h', (n_LGN, n_L4), 'LGN_L4_h_on.npy', 'LGN_off', 'L4_i_NF_h', 'e'],\n",
    "    ['LGN_on_L4_i_NF_h', (n_LGN, n_L4), 'LGN_L4_h_off.npy', 'LGN_on', 'L4_i_NF_h', 'e'],\n",
    "    \n",
    "    ['LGN_off_L4_FN_h', (n_LGN, n_L4), 'LGN_L4_h_on.npy', 'LGN_off', 'L4_FN_h', 'e'],\n",
    "    ['LGN_on_L4_FN_h', (n_LGN, n_L4), 'LGN_L4_h_off.npy', 'LGN_on', 'L4_FN_h', 'e'],\n",
    "    ['LGN_on_L4_i_FN_h', (n_LGN, n_L4), 'LGN_L4_h_on.npy', 'LGN_on', 'L4_i_FN_h', 'e'],\n",
    "    ['LGN_off_L4_i_FN_h', (n_LGN, n_L4), 'LGN_L4_h_off.npy', 'LGN_off', 'L4_i_FN_h', 'e'],\n",
    "    \n",
    "    ['LGN_on_L4_NF_dr', (n_LGN, n_L4), 'LGN_L4_dr_on.npy', 'LGN_on', 'L4_NF_dr', 'e'],\n",
    "    ['LGN_off_L4_NF_dr', (n_LGN, n_L4), 'LGN_L4_dr_off.npy', 'LGN_off', 'L4_NF_dr', 'e'],\n",
    "    ['LGN_off_L4_i_NF_dr', (n_LGN, n_L4), 'LGN_L4_dr_on.npy', 'LGN_off', 'L4_i_NF_dr', 'e'],\n",
    "    ['LGN_on_L4_i_NF_dr', (n_LGN, n_L4), 'LGN_L4_dr_off.npy', 'LGN_on', 'L4_i_NF_dr', 'e'],\n",
    "    \n",
    "    ['LGN_off_L4_FN_dr', (n_LGN, n_L4), 'LGN_L4_dr_on.npy', 'LGN_off', 'L4_FN_dr', 'e'],\n",
    "    ['LGN_on_L4_FN_dr', (n_LGN, n_L4), 'LGN_L4_dr_off.npy', 'LGN_on', 'L4_FN_dr', 'e'],\n",
    "    ['LGN_on_L4_i_FN_dr', (n_LGN, n_L4), 'LGN_L4_dr_on.npy', 'LGN_on', 'L4_i_FN_dr', 'e'],\n",
    "    ['LGN_off_L4_i_FN_dr', (n_LGN, n_L4), 'LGN_L4_dr_off.npy', 'LGN_off', 'L4_i_FN_dr', 'e'],\n",
    "    \n",
    "    ['LGN_on_L4_NF_dl', (n_LGN, n_L4), 'LGN_L4_dl_on.npy', 'LGN_on', 'L4_NF_dl', 'e'],\n",
    "    ['LGN_off_L4_NF_dl', (n_LGN, n_L4), 'LGN_L4_dl_off.npy', 'LGN_off', 'L4_NF_dl', 'e'],\n",
    "    ['LGN_off_L4_i_NF_dl', (n_LGN, n_L4), 'LGN_L4_dl_on.npy', 'LGN_off', 'L4_i_NF_dl', 'e'],\n",
    "    ['LGN_on_L4_i_NF_dl', (n_LGN, n_L4), 'LGN_L4_dl_off.npy', 'LGN_on', 'L4_i_NF_dl', 'e'],\n",
    "    \n",
    "    ['LGN_off_L4_FN_dl', (n_LGN, n_L4), 'LGN_L4_dl_on.npy', 'LGN_off', 'L4_FN_dl', 'e'],\n",
    "    ['LGN_on_L4_FN_dl', (n_LGN, n_L4), 'LGN_L4_dl_off.npy', 'LGN_on', 'L4_FN_dl', 'e'],\n",
    "    ['LGN_on_L4_i_FN_dl', (n_LGN, n_L4), 'LGN_L4_dl_on.npy', 'LGN_on', 'L4_i_FN_dl', 'e'],\n",
    "    ['LGN_off_L4_i_FN_dl', (n_LGN, n_L4), 'LGN_L4_dl_off.npy', 'LGN_off', 'L4_i_FN_dl', 'e'],\n",
    "]\n",
    "\n",
    "neuron_neuron_conn = [\n",
    "    ['L4_i_L4_NF_v', (n_L4, n_L4), 'L4_L4.npy', 'L4_i_NF_v', 'L4_NF_v', 'i'],\n",
    "    ['L4_i_L4_FN_v', (n_L4, n_L4), 'L4_L4.npy', 'L4_i_FN_v', 'L4_FN_v', 'i'],\n",
    "    ['L4_NF_L4_v', (n_L4, n_L4), 'L4_L4.npy', 'L4_NF_v', 'L4_v', 'e'],\n",
    "    ['L4_FN_L4_v', (n_L4, n_L4), 'L4_L4.npy', 'L4_FN_v', 'L4_v', 'e'],\n",
    "    \n",
    "    ['L4_i_L4_NF_h', (n_L4, n_L4), 'L4_L4.npy', 'L4_i_NF_h', 'L4_NF_h', 'i'],\n",
    "    ['L4_i_L4_FN_h', (n_L4, n_L4), 'L4_L4.npy', 'L4_i_FN_h', 'L4_FN_h', 'i'],\n",
    "    ['L4_NF_L4_h', (n_L4, n_L4), 'L4_L4.npy', 'L4_NF_h', 'L4_h', 'e'],\n",
    "    ['L4_FN_L4_h', (n_L4, n_L4), 'L4_L4.npy', 'L4_FN_h', 'L4_h', 'e'],\n",
    "    \n",
    "    ['L4_i_L4_NF_dr', (n_L4, n_L4), 'L4_L4.npy', 'L4_i_NF_dr', 'L4_NF_dr', 'i'],\n",
    "    ['L4_i_L4_FN_dr', (n_L4, n_L4), 'L4_L4.npy', 'L4_i_FN_dr', 'L4_FN_dr', 'i'],\n",
    "    ['L4_NF_L4_dr', (n_L4, n_L4), 'L4_L4.npy', 'L4_NF_dr', 'L4_dr', 'e'],\n",
    "    ['L4_FN_L4_dr', (n_L4, n_L4), 'L4_L4.npy', 'L4_FN_dr', 'L4_dr', 'e'],\n",
    "    \n",
    "    ['L4_i_L4_NF_dl', (n_L4, n_L4), 'L4_L4.npy', 'L4_i_NF_dl', 'L4_NF_dl', 'i'],\n",
    "    ['L4_i_L4_FN_dl', (n_L4, n_L4), 'L4_L4.npy', 'L4_i_FN_dl', 'L4_FN_dl', 'i'],\n",
    "    ['L4_NF_L4_dl', (n_L4, n_L4), 'L4_L4.npy', 'L4_NF_dl', 'L4_dl', 'e'],\n",
    "    ['L4_FN_L4_dl', (n_L4, n_L4), 'L4_L4.npy', 'L4_FN_dl', 'L4_dl', 'e'],\n",
    "    \n",
    "    ['L4_h_L4', (n_L4, n_L4), 'L4_L4.npy', 'L4_h', 'L4', 'e'],\n",
    "    ['L4_v_L4', (n_L4, n_L4), 'L4_L4.npy', 'L4_v', 'L4', 'e'],\n",
    "    ['L4_dl_L4', (n_L4, n_L4), 'L4_L4.npy', 'L4_dl', 'L4', 'e'],\n",
    "    ['L4_dr_L4', (n_L4, n_L4), 'L4_L4.npy', 'L4_dr', 'L4', 'e'],\n",
    "    \n",
    "    ['L4_L3', (n_L4, n_L3), 'L4_L3.npy', 'L4', 'L3', 'e']\n",
    "]\n",
    "\n",
    "\n",
    "for conn in input_neuron_conn:\n",
    "    name = conn[0]\n",
    "    shape = conn[1]\n",
    "    weight_file = conn[2]\n",
    "    source = conn[3]\n",
    "    target = conn[4]\n",
    "    \n",
    "    weightMatrix = get_matrix_from_file(weight_path + weight_file, shape)\n",
    "    connections[name]= Synapses(input_groups[source], neuron_groups[target], model=model, on_pre=pre_e, on_post=post)\n",
    "    connections[name].connect(True)\n",
    "    connections[name].w = weightMatrix[connections[name].i, connections[name].j]\n",
    "    connections[name].delay = 'minDelay + rand() * deltaDelay'\n",
    "    \n",
    "    \n",
    "for conn in neuron_neuron_conn:\n",
    "    name = conn[0]\n",
    "    shape = conn[1]\n",
    "    weight_file = conn[2]\n",
    "    source = conn[3]\n",
    "    target = conn[4]\n",
    "    equation = conn[5]\n",
    "    if (equation == 'e'):\n",
    "        pre = pre_e\n",
    "    elif (equation == 'i'):\n",
    "        pre = pre_i\n",
    "    \n",
    "    weightMatrix = get_matrix_from_file(weight_path + weight_file, shape)\n",
    "    connections[name]= Synapses(neuron_groups[source], neuron_groups[target], model=model, on_pre=pre, on_post=post)\n",
    "    connections[name].connect(True)\n",
    "    connections[name].w = weightMatrix[connections[name].i, connections[name].j]"
   ]
  },
  {
   "cell_type": "code",
   "execution_count": 35,
   "metadata": {},
   "outputs": [],
   "source": [
    "spike_counter = SpikeMonitor(neuron_groups['L4'])\n",
    "\n",
    "# used for ploting after training\n",
    "spike_monitors = {}\n",
    "\n",
    "spike_monitors['LGN_on']      = SpikeMonitor(input_groups['LGN_on'])\n",
    "spike_monitors['LGN_off']     = SpikeMonitor(input_groups['LGN_off'])\n",
    "\n",
    "for name,_ in neuron_groups_list:\n",
    "    spike_monitors[name]   = SpikeMonitor(neuron_groups[name])"
   ]
  },
  {
   "cell_type": "code",
   "execution_count": 36,
   "metadata": {},
   "outputs": [],
   "source": [
    "net = Network()\n",
    "for obj_list in [neuron_groups, input_groups, connections, spike_monitors]:\n",
    "    for key in obj_list:\n",
    "#         print(key, obj_list[key])\n",
    "        net.add(obj_list[key])\n",
    "# print('spike counter', spike_counter)\n",
    "net.add(spike_counter)"
   ]
  },
  {
   "cell_type": "code",
   "execution_count": 37,
   "metadata": {},
   "outputs": [],
   "source": [
    "previous_spike_count = np.zeros(n_L4)\n",
    "\n",
    "input_groups['LGN_on'].rates = 0 * Hz\n",
    "input_groups['LGN_off'].rates = 0 * Hz\n",
    "\n",
    "net.run(0*second)\n",
    "\n",
    "j = 0"
   ]
  },
  {
   "cell_type": "code",
   "execution_count": 38,
   "metadata": {},
   "outputs": [
    {
     "name": "stdout",
     "output_type": "stream",
     "text": [
      "run example number: 0 of 7\n",
      "Starting simulation at t=0. s for a duration of 0.35 s\n",
      "0.10880000000000001 (31%) simulated in 10s, estimated 22s remaining.\n",
      "0.21480000000000002 (61%) simulated in 20s, estimated 13s remaining.\n",
      "0.2923 (83%) simulated in 30s, estimated 6s remaining.\n",
      "0.35 (100%) simulated in 36s\n",
      "S - spike count 78.0\n",
      "run example number: 1 of 7\n",
      "Starting simulation at t=0.5 s for a duration of 0.35 s\n",
      "0.02725882352941178 (7%) simulated in 10s, estimated 1m 59s remaining.\n",
      "0.04974117647058824 (14%) simulated in 20s, estimated 2m 1s remaining.\n",
      "0.08424705882352941 (24%) simulated in 30s, estimated 1m 35s remaining.\n",
      "0.13081764705882357 (37%) simulated in 40s, estimated 1m 7s remaining.\n",
      "0.35 (100%) simulated in 42s\n",
      "S - spike count 137\n",
      "run example number: 2 of 7\n",
      "Starting simulation at t=1. s for a duration of 0.35 s\n",
      "0.03515555555555559 (10%) simulated in 10s, estimated 1m 30s remaining.\n",
      "0.07534074074074072 (21%) simulated in 20s, estimated 1m 13s remaining.\n",
      "0.35 (100%) simulated in 23s\n",
      "S - spike count 147\n",
      "run example number: 3 of 7\n",
      "Starting simulation at t=1.5 s for a duration of 0.35 s\n",
      "0.017670270270270298 (5%) simulated in 10s, estimated 3m 8s remaining.\n",
      "0.03598378378378381 (10%) simulated in 20s, estimated 2m 55s remaining.\n",
      "0.05673783783783784 (16%) simulated in 30s, estimated 2m 35s remaining.\n",
      "0.35 (100%) simulated in 34s\n",
      "S - spike count 156\n",
      "run example number: 4 of 7\n",
      "Starting simulation at t=2. s for a duration of 0.35 s\n",
      "0.010142553191489401 (2%) simulated in 10s, estimated 5m 35s remaining.\n",
      "0.021476595744680863 (6%) simulated in 20s, estimated 5m 6s remaining.\n",
      "0.034046808510638314 (9%) simulated in 30s, estimated 4m 39s remaining.\n",
      "0.04822553191489366 (13%) simulated in 40s, estimated 4m 10s remaining.\n",
      "0.35 (100%) simulated in 42s\n",
      "S - spike count 130\n",
      "run example number: 5 of 7\n",
      "Starting simulation at t=2.5 s for a duration of 0.35 s\n",
      "0.009996491228070163 (2%) simulated in 10s, estimated 5m 40s remaining.\n",
      "0.020398245614035103 (5%) simulated in 20s, estimated 5m 23s remaining.\n",
      "0.031242105263157887 (8%) simulated in 30s, estimated 5m 6s remaining.\n",
      "0.35 (100%) simulated in 39s\n",
      "S - spike count 125\n",
      "run example number: 6 of 7\n",
      "Starting simulation at t=3. s for a duration of 0.35 s\n",
      "0.011137313432835846 (3%) simulated in 10s, estimated 5m 5s remaining.\n",
      "0.022431343283582098 (6%) simulated in 20s, estimated 4m 52s remaining.\n",
      "0.03352686567164178 (9%) simulated in 30s, estimated 4m 43s remaining.\n",
      "0.35 (100%) simulated in 32s\n",
      "S - spike count 152\n"
     ]
    }
   ],
   "source": [
    "while j < (num_epochs):\n",
    "\n",
    "    spike_rates_on = stimuli_on.reshape((n_LGN)) / 8. *  input_intensity\n",
    "    spike_rates_off = stimuli_off.reshape((n_LGN)) / 8. *  input_intensity\n",
    "    \n",
    "    input_groups['LGN_on'].rates = spike_rates_on * Hz\n",
    "    input_groups['LGN_off'].rates = spike_rates_off * Hz\n",
    "    \n",
    "    print('run example number:', j, 'of', num_epochs)\n",
    "    \n",
    "    net.run(single_example_time, report='text')   # 0.35 s\n",
    "\n",
    "    current_spike_count = np.asarray(spike_counter.count[:]) - previous_spike_count\n",
    "    previous_spike_count = np.copy(spike_counter.count[:])\n",
    "    \n",
    "    if np.sum(current_spike_count) < 1:\n",
    "        if (input_intensity == 10):\n",
    "            break;\n",
    "            \n",
    "        print(\"F - spike count\", np.sum(current_spike_count))\n",
    "        input_intensity += 1\n",
    "        \n",
    "        input_groups['LGN_on'].rates = 0 * Hz\n",
    "        input_groups['LGN_off'].rates = 0 * Hz\n",
    "        net.run(resting_time) \n",
    "    \n",
    "    else:     \n",
    "        print(\"S - spike count\", np.sum(current_spike_count))\n",
    "        \n",
    "        if j % 100 == 0 and j > 0:\n",
    "            print('runs done:', j, 'of', num_epochs)\n",
    "\n",
    "        input_groups['LGN_on'].rates = 0 * Hz\n",
    "        input_groups['LGN_off'].rates = 0 * Hz\n",
    "        \n",
    "        net.run(resting_time)\n",
    "        input_intensity = start_input_intensity\n",
    "        j += 1"
   ]
  },
  {
   "cell_type": "code",
   "execution_count": 39,
   "metadata": {},
   "outputs": [
    {
     "data": {
      "image/png": "[encoded data removed]",
      "text/plain": [
       "<Figure size 864x720 with 9 Axes>"
      ]
     },
     "metadata": {
      "needs_background": "light"
     },
     "output_type": "display_data"
    }
   ],
   "source": [
    "shape = (length//(w_s*2), length//l_s)\n",
    "c, axarr = subplots(3, 3, figsize = (12, 10))\n",
    "\n",
    "axarr[0,0].imshow(get_spike_counts('L3', shape), cmap = cmap.get_cmap('binary'))\n",
    "axarr[0,0].title.set_text('L3')\n",
    "\n",
    "axarr[0,1].imshow(get_spike_counts('L4', shape), cmap = cmap.get_cmap('binary'))\n",
    "axarr[0,1].title.set_text('L4')\n",
    "\n",
    "axarr[1,0].imshow(get_spike_counts('L4_h', shape), cmap = cmap.get_cmap('binary'))\n",
    "axarr[1,0].title.set_text('L4_h')\n",
    "axarr[2,0].imshow(get_spike_counts('L4_v', shape), cmap = cmap.get_cmap('binary'))\n",
    "axarr[2,0].title.set_text('L4_v')\n",
    "\n",
    "axarr[1,1].imshow(get_spike_counts('L4_dl', shape), cmap = cmap.get_cmap('binary'))\n",
    "axarr[1,1].title.set_text('L4_dl')\n",
    "axarr[2,1].imshow(get_spike_counts('L4_dr', shape), cmap = cmap.get_cmap('binary'))\n",
    "axarr[2,1].title.set_text('L4_dr')\n",
    "\n",
    "axarr[1,2].imshow(get_spike_counts('LGN_off', (length,length)), cmap = cmap.get_cmap('binary'))\n",
    "axarr[1,2].title.set_text('LGN_off')\n",
    "axarr[2,2].imshow(get_spike_counts('LGN_on', (length,length)), cmap = cmap.get_cmap('binary'))\n",
    "axarr[2,2].title.set_text('LGN_on')"
   ]
  },
  {
   "cell_type": "code",
   "execution_count": 40,
   "metadata": {},
   "outputs": [],
   "source": [
    "# plot(state_monitors['L4_v'].t/ms, state_monitors['L4_v'].v[0], label='L4_v')\n",
    "# plot(state_monitors['L4_i_v'].t/ms, state_monitors['L4_i_v'].v[0], label='L4_i_v')\n",
    "# xlabel('Time (ms)')\n",
    "# ylabel('v')\n",
    "# legend();"
   ]
  },
  {
   "cell_type": "code",
   "execution_count": 41,
   "metadata": {},
   "outputs": [
    {
     "data": {
      "image/png": "[encoded data removed]",
      "text/plain": [
       "<Figure size 432x432 with 2 Axes>"
      ]
     },
     "metadata": {
      "needs_background": "light"
     },
     "output_type": "display_data"
    }
   ],
   "source": [
    "plot_spike_counts('L3', shape)\n",
    "fig_num += 1"
   ]
  },
  {
   "cell_type": "code",
   "execution_count": 42,
   "metadata": {},
   "outputs": [
    {
     "data": {
      "image/png": "[encoded data removed]",
      "text/plain": [
       "<Figure size 432x432 with 2 Axes>"
      ]
     },
     "metadata": {
      "needs_background": "light"
     },
     "output_type": "display_data"
    }
   ],
   "source": [
    "plot_spike_counts('L4', shape)\n",
    "fig_num += 1"
   ]
  },
  {
   "cell_type": "code",
   "execution_count": null,
   "metadata": {},
   "outputs": [],
   "source": []
  },
  {
   "cell_type": "code",
   "execution_count": null,
   "metadata": {},
   "outputs": [],
   "source": []
  },
  {
   "cell_type": "code",
   "execution_count": null,
   "metadata": {},
   "outputs": [],
   "source": []
  },
  {
   "cell_type": "code",
   "execution_count": null,
   "metadata": {},
   "outputs": [],
   "source": []
  },
  {
   "cell_type": "code",
   "execution_count": null,
   "metadata": {},
   "outputs": [],
   "source": []
  },
  {
   "cell_type": "code",
   "execution_count": null,
   "metadata": {},
   "outputs": [],
   "source": []
  }
 ],
 "metadata": {
  "kernelspec": {
   "display_name": "SNN simulator",
   "language": "python",
   "name": "sim"
  },
  "language_info": {
   "codemirror_mode": {
    "name": "ipython",
    "version": 3
   },
   "file_extension": ".py",
   "mimetype": "text/x-python",
   "name": "python",
   "nbconvert_exporter": "python",
   "pygments_lexer": "ipython3",
   "version": "3.6.8"
  }
 },
 "nbformat": 4,
 "nbformat_minor": 2
}
